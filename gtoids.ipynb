{
 "cells": [
  {
   "cell_type": "code",
   "execution_count": null,
   "metadata": {},
   "outputs": [],
   "source": [
    "import numpy as np\n",
    "import pandas as pd\n",
    "import matplotlib.pyplot as plt\n",
    "\n",
    "from geoscripts import gchemplots as gp"
   ]
  },
  {
   "cell_type": "code",
   "execution_count": null,
   "metadata": {},
   "outputs": [],
   "source": [
    "# Read in organized data\n",
    "data = pd.read_csv('processed/data.csv',index_col=0)\n",
    "\n",
    "data_filtered = data.loc[['G22019','G22020']]\n",
    "\n",
    "print(data_filtered.index)"
   ]
  },
  {
   "cell_type": "code",
   "execution_count": null,
   "metadata": {},
   "outputs": [],
   "source": [
    "# TAS\n",
    "fig,ax = plt.subplots(1,dpi=300,figsize=(3,2))\n",
    "\n",
    "SiO2,Na2O,K2O = data_filtered[['SiO2','Na2O','K2O']].T.values\n",
    "gp.TASsm(SiO2,Na2O,K2O,ax=ax,first=[])\n",
    "\n",
    "plt.tight_layout()\n",
    "fig.savefig('gtoid_TAS.pdf')"
   ]
  },
  {
   "cell_type": "code",
   "execution_count": null,
   "metadata": {},
   "outputs": [],
   "source": [
    "# K2O\n",
    "fig,ax = plt.subplots(1,dpi=300,figsize=(3,2))\n",
    "\n",
    "ax.scatter(SiO2,K2O)\n",
    "\n",
    "plt.tight_layout()\n",
    "fig.savefig('gtoid_K20.pdf')"
   ]
  },
  {
   "cell_type": "code",
   "execution_count": null,
   "metadata": {},
   "outputs": [],
   "source": [
    "# Rb and other bivariate\n",
    "fig,axs = plt.subplots(1,3,dpi=300,figsize=(8,3))\n",
    "\n",
    "# Lines for discrimination\n",
    "x1 = [1,50,40,50,1000]\n",
    "y1 = [2000,10,1,10,100]\n",
    "\n",
    "x2 = [55,3,0.1,3,5,5,5,100]\n",
    "y2 = [20,2,0.35,2,1,0.05,1,7]\n",
    "\n",
    "\n",
    "Nb,Y,Ta,Yb,Zr,Hf = data_filtered[['Nb','Y','Ta','Yb','Zr','Hf']].T.values\n",
    "axs[0].scatter(Y,Nb)\n",
    "axs[0].loglog()\n",
    "axs[0].set_xlim(1,1000)\n",
    "axs[0].set_ylim(1,1000)\n",
    "axs[0].set_xlabel('Y')\n",
    "axs[0].set_ylabel('Nb')\n",
    "axs[0].plot(x1,y1)\n",
    "\n",
    "axs[1].scatter(Yb,Ta)\n",
    "axs[1].loglog()\n",
    "axs[1].set_xlim(0.1,100)\n",
    "axs[1].set_ylim(0.1,100)\n",
    "axs[1].set_xlabel('Yb')\n",
    "axs[1].set_ylabel('Ta')\n",
    "axs[1].plot(x2,y2)\n",
    "\n",
    "axs[2].scatter(Zr/Hf,Nb/Ta)\n",
    "axs[2].set_xlim(20,45)\n",
    "axs[2].set_ylim(5,20)\n",
    "axs[2].set_xlabel('Zr/Hf')\n",
    "axs[2].set_ylabel('Nb/Ta')\n",
    "\n",
    "plt.tight_layout()\n"
   ]
  }
 ],
 "metadata": {
  "kernelspec": {
   "display_name": "dataset-caucasus-gchem-2023",
   "language": "python",
   "name": "python3"
  },
  "language_info": {
   "codemirror_mode": {
    "name": "ipython",
    "version": 3
   },
   "file_extension": ".py",
   "mimetype": "text/x-python",
   "name": "python",
   "nbconvert_exporter": "python",
   "pygments_lexer": "ipython3",
   "version": "3.11.4"
  }
 },
 "nbformat": 4,
 "nbformat_minor": 2
}
