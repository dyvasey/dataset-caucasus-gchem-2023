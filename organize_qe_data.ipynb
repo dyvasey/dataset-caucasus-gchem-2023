{
 "cells": [
  {
   "cell_type": "code",
   "execution_count": 1,
   "metadata": {},
   "outputs": [],
   "source": [
    "import os\n",
    "import pandas as pd"
   ]
  },
  {
   "cell_type": "code",
   "execution_count": 2,
   "metadata": {},
   "outputs": [],
   "source": [
    "# Read in raw data\n",
    "\n",
    "# For XRF, ignore repeats and standards\n",
    "xrf = pd.read_excel('raw/VAS1980.xls',usecols='A:D',index_col=0,header=1)\n",
    "\n",
    "# For ICPMS, ignnore repeats and standards\n",
    "icpms = pd.read_excel('raw/vas930.xls',index_col=0,nrows=54)\n",
    "\n",
    "# Make directory for processed data\n",
    "os.makedirs('processed',exist_ok=True)"
   ]
  },
  {
   "cell_type": "code",
   "execution_count": 3,
   "metadata": {},
   "outputs": [
    {
     "name": "stdout",
     "output_type": "stream",
     "text": [
      "Index(['SiO2_unnorm', 'TiO2_unnorm', 'Al2O3_unnorm', 'FeO*_unnorm',\n",
      "       'MnO_unnorm', 'MgO_unnorm', 'CaO_unnorm', 'Na2O_unnorm', 'K2O_unnorm',\n",
      "       'P2O5_unnorm'],\n",
      "      dtype='object')\n",
      "Index(['SiO2', 'TiO2', 'Al2O3', 'FeO*', 'MnO', 'MgO', 'CaO', 'Na2O', 'K2O',\n",
      "       'P2O5'],\n",
      "      dtype='object')\n",
      "LOI %\n",
      "Index(['C17069B', 'V17043A', '100311-3A'], dtype='object')\n",
      "Index(['Ni', 'Cr', 'V', 'Ga', 'Cu', 'Zn'], dtype='object')\n",
      "Index(['C17069B', 'V17043A', '100311-3A'], dtype='object')\n",
      "Index(['La', 'Ce', 'Pr', 'Nd', 'Sm', 'Eu', 'Gd', 'Tb', 'Dy', 'Ho', 'Er', 'Tm',\n",
      "       'Yb', 'Lu', 'Ba', 'Th', 'Nb', 'Y', 'Hf', 'Ta', 'U', 'Pb', 'Rb', 'Cs',\n",
      "       'Sr', 'Sc', 'Zr'],\n",
      "      dtype='object')\n",
      "Index(['C17069B', 'V17043A', '100311-3A'], dtype='object', name='Sample ID')\n",
      "True\n",
      "True\n",
      "Index(['SiO2_unnorm', 'TiO2_unnorm', 'Al2O3_unnorm', 'FeO*_unnorm',\n",
      "       'MnO_unnorm', 'MgO_unnorm', 'CaO_unnorm', 'Na2O_unnorm', 'K2O_unnorm',\n",
      "       'P2O5_unnorm', 'SiO2', 'TiO2', 'Al2O3', 'FeO*', 'MnO', 'MgO', 'CaO',\n",
      "       'Na2O', 'K2O', 'P2O5', 'LOI %', 'Ni', 'Cr', 'V', 'Ga', 'Cu', 'Zn', 'La',\n",
      "       'Ce', 'Pr', 'Nd', 'Sm', 'Eu', 'Gd', 'Tb', 'Dy', 'Ho', 'Er', 'Tm', 'Yb',\n",
      "       'Lu', 'Ba', 'Th', 'Nb', 'Y', 'Hf', 'Ta', 'U', 'Pb', 'Rb', 'Cs', 'Sr',\n",
      "       'Sc', 'Zr'],\n",
      "      dtype='object')\n",
      "Index(['C17069B', 'V17043A', '100311-3A'], dtype='object')\n"
     ]
    }
   ],
   "source": [
    "# Pull unnormalized major elements from XRF and transpose\n",
    "majors_unnorm = xrf.iloc[4:14,:].T\n",
    "\n",
    "# Pull normalized major elements from XRF and transpose to make samples index\n",
    "majors_norm = xrf.iloc[18:28,:].T\n",
    "\n",
    "# Pull LOI from XRF and transpose \n",
    "loi = xrf.iloc[15,:].T\n",
    "\n",
    "# Remove extra space in majors_unnorm columns\n",
    "new_cols = majors_unnorm.columns.str.replace(' ','')\n",
    "new_cols_unnorm = [x+'_unnorm' for x in new_cols]\n",
    "majors_unnorm_corr = majors_unnorm.copy()\n",
    "majors_unnorm_corr.columns = new_cols_unnorm\n",
    "\n",
    "# Remove extra space in majors columns\n",
    "new_cols = majors_norm.columns.str.replace(' ','')\n",
    "majors_norm_corr = majors_norm.copy()\n",
    "majors_norm_corr.columns = new_cols\n",
    "\n",
    "# Pull XRF trace elements and transpose\n",
    "xrf_trace = xrf.iloc[31:50,:].T\n",
    "\n",
    "# Remove extra space in XRF Trace columns\n",
    "new_cols = xrf_trace.columns.str[1:]\n",
    "xrf_trace_corr = xrf_trace.copy()\n",
    "xrf_trace_corr.columns = new_cols\n",
    "\n",
    "# Remove 'ppm' from ICPMS columns\n",
    "new_cols = icpms.columns.str[:-4]\n",
    "icpms_corr = icpms.copy()\n",
    "icpms_corr.columns  = new_cols\n",
    "\n",
    "# Remove 'VAS' from ICPMS indices\n",
    "icpms_indices_stripped = icpms_corr.index.str[4:]\n",
    "icpms_corr.index = icpms_indices_stripped\n",
    "\n",
    "# Remove XRF data duplicated by ICPMS\n",
    "common_cols = xrf_trace_corr.columns.intersection(icpms_corr.columns)\n",
    "xrf_trace_culled = xrf_trace_corr.drop(common_cols,axis=1)\n",
    "\n",
    "# Check what is in each file\n",
    "print(majors_unnorm_corr.columns)\n",
    "print(majors_norm_corr.columns)\n",
    "print(loi.name)\n",
    "print(xrf_trace_culled.index)\n",
    "print(xrf_trace_culled.columns)\n",
    "print(xrf_trace_culled.index)\n",
    "print(icpms_corr.columns)\n",
    "print(icpms_corr.index)\n",
    "print(majors_norm_corr.index.equals(xrf_trace_culled.index))\n",
    "print(xrf_trace_culled.index.equals(icpms_corr.index))\n",
    "\n",
    "\n",
    "# Combine into single dataframe\n",
    "data_organized = pd.concat([majors_unnorm_corr,majors_norm_corr,loi,xrf_trace_culled,icpms_corr],axis=1)\n",
    "print(data_organized.columns)\n",
    "print(data_organized.index)"
   ]
  },
  {
   "cell_type": "code",
   "execution_count": 4,
   "metadata": {},
   "outputs": [],
   "source": [
    "# Read in metadata\n",
    "meta = pd.read_csv('metadata/gchm_qe.csv',index_col=0)\n",
    "\n",
    "# Isolate columns of interest\n",
    "meta_cols = ['Latitude','Longitude','Rock_Type','Period','S_Domain']\n",
    "\n",
    "# Isolate rows that were actually run\n",
    "meta_trimmed = meta.loc[data_organized.index,meta_cols]\n",
    "\n",
    "# Add metadata to main table\n",
    "data_final = data_organized.join(meta_trimmed)"
   ]
  },
  {
   "cell_type": "code",
   "execution_count": 5,
   "metadata": {},
   "outputs": [],
   "source": [
    "# Write to CSV\n",
    "data_final.to_csv('processed/data_qe.csv')"
   ]
  }
 ],
 "metadata": {
  "kernelspec": {
   "display_name": "dev-geoscripts-gchem",
   "language": "python",
   "name": "python3"
  },
  "language_info": {
   "codemirror_mode": {
    "name": "ipython",
    "version": 3
   },
   "file_extension": ".py",
   "mimetype": "text/x-python",
   "name": "python",
   "nbconvert_exporter": "python",
   "pygments_lexer": "ipython3",
   "version": "3.11.10"
  }
 },
 "nbformat": 4,
 "nbformat_minor": 2
}
