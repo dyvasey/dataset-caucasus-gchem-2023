{
 "cells": [
  {
   "cell_type": "code",
   "execution_count": null,
   "metadata": {},
   "outputs": [],
   "source": [
    "import pandas as pd\n",
    "import matplotlib.pyplot as plt\n",
    "from geoscripts import gchemplots as gp"
   ]
  },
  {
   "cell_type": "code",
   "execution_count": null,
   "metadata": {},
   "outputs": [],
   "source": [
    "# Read in organized data\n",
    "data = pd.read_csv('processed/data.csv',index_col=0)\n",
    "\n",
    "# Filter for J and mafic\n",
    "ternary_total = data['Ta']*2+data['Tb']*3+data['Th']\n",
    "filter_period = (data['Period']=='Jurassic')|(data['Period']=='Jurassic?')\n",
    "filter_major =  (data['SiO2']<55)\n",
    "filter_trace = (data['Tb']*3/ternary_total>0.5)\n",
    "data_filtered = data[filter_period&filter_major]\n",
    "\n",
    "print(data_filtered.index)"
   ]
  },
  {
   "cell_type": "code",
   "execution_count": null,
   "metadata": {},
   "outputs": [],
   "source": [
    "Tb,Th,Ta = data_filtered[['Tb','Th','Ta']].T.values\n",
    "\n",
    "fig = plt.figure()\n",
    "ax = fig.add_subplot(111,projection='ternary')\n",
    "gp.cabanis(Tb,Th,Ta)"
   ]
  },
  {
   "cell_type": "code",
   "execution_count": null,
   "metadata": {},
   "outputs": [],
   "source": [
    "fig,axs = plt.subplots(2,figsize=(5,7))\n",
    "gp.REE(data_filtered,ax=axs[0])\n",
    "gp.immobile(data_filtered,ax=axs[1])"
   ]
  },
  {
   "cell_type": "code",
   "execution_count": null,
   "metadata": {},
   "outputs": [],
   "source": [
    "# Look at specific samples\n",
    "\n",
    "samples = ['G22076','G22081']\n",
    "\n",
    "smp_data = data.loc[samples]\n",
    "\n",
    "SiO2,Na2O,K2O = smp_data[['SiO2','Na2O','K2O']].T.values\n",
    "gp.TASsm(SiO2,Na2O,K2O)\n",
    "\n",
    "Tb,Th,Ta = smp_data[['Tb','Th','Ta']].T.values\n",
    "\n",
    "fig = plt.figure()\n",
    "ax = fig.add_subplot(111,projection='ternary')\n",
    "gp.cabanis(Tb,Th,Ta)\n",
    "\n",
    "fig2,axs = plt.subplots(2,figsize=(5,7))\n",
    "gp.REE(smp_data,ax=axs[0])\n",
    "gp.immobile(smp_data,ax=axs[1])\n"
   ]
  },
  {
   "cell_type": "code",
   "execution_count": null,
   "metadata": {},
   "outputs": [],
   "source": [
    "fig = plt.figure()\n",
    "ax = fig.add_subplot(111,projection='ternary')\n",
    "\n",
    "fig2,axs = plt.subplots(2,figsize=(5,7))\n",
    "\n",
    "fig3,ax3 = plt.subplots(1)\n",
    "\n",
    "lat = pd.cut(data_filtered['Latitude'],4)\n",
    "lon = pd.cut(data_filtered['Longitude'],4)\n",
    "# domain = pd.cut(data_filtered['S_Domain'])\n",
    "\n",
    "groups = data_filtered.groupby(data_filtered['S_Domain'])\n",
    "for k, group in groups:\n",
    "    Tb,Th,Ta = group[['Tb','Th','Ta']].T.values\n",
    "    gp.cabanis(Tb,Th,Ta,ax=ax,label=k)\n",
    "    gp.REE(group,ax=axs[0])\n",
    "    gp.immobile(group,ax=axs[1])\n",
    "    ax3.scatter(group['Longitude'],group['Latitude'])\n",
    "\n",
    "ax.legend()"
   ]
  },
  {
   "cell_type": "code",
   "execution_count": null,
   "metadata": {},
   "outputs": [],
   "source": [
    "smp_data = data_filtered[data_filtered['S_Domain']=='Khaishi']\n",
    "\n",
    "SiO2,Na2O,K2O = smp_data[['SiO2','Na2O','K2O']].T.values\n",
    "gp.TASsm(SiO2,Na2O,K2O)\n",
    "\n",
    "fig = plt.figure()\n",
    "ax = fig.add_subplot(111,projection='ternary')\n",
    "\n",
    "fig2,axs = plt.subplots(2,figsize=(5,7))\n",
    "fig3,ax3 = plt.subplots(1)\n",
    "\n",
    "smp_groups = smp_data.groupby(smp_data.index)\n",
    "\n",
    "for k,group in smp_groups:\n",
    "    Tb,Th,Ta = group[['Tb','Th','Ta']].T.values\n",
    "    gp.cabanis(Tb,Th,Ta,ax=ax,label=k)\n",
    "    gp.REE(group,ax=axs[0])\n",
    "    gp.immobile(group,ax=axs[1])\n",
    "    ax3.scatter(group['Longitude'],group['Latitude'])\n",
    "\n",
    "ax.legend()\n",
    "\n",
    "\n"
   ]
  }
 ],
 "metadata": {
  "kernelspec": {
   "display_name": "local-geoscripts",
   "language": "python",
   "name": "python3"
  },
  "language_info": {
   "codemirror_mode": {
    "name": "ipython",
    "version": 3
   },
   "file_extension": ".py",
   "mimetype": "text/x-python",
   "name": "python",
   "nbconvert_exporter": "python",
   "pygments_lexer": "ipython3",
   "version": "3.11.3"
  },
  "orig_nbformat": 4
 },
 "nbformat": 4,
 "nbformat_minor": 2
}
