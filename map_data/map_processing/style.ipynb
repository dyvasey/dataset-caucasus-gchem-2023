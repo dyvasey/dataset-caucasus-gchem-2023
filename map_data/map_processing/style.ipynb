{
 "cells": [
  {
   "cell_type": "code",
   "execution_count": 104,
   "metadata": {},
   "outputs": [],
   "source": [
    "import re\n",
    "\n",
    "import fiona\n",
    "import geopandas as gpd\n",
    "import pandas as pd"
   ]
  },
  {
   "cell_type": "code",
   "execution_count": 81,
   "metadata": {},
   "outputs": [
    {
     "name": "stdout",
     "output_type": "stream",
     "text": [
      "{'Upper/Late Holocene': '#FDEDEC', 'Northgrippian': '#FDECE4', 'Middle Holocene': '#FDECE4', 'Greenlandian': '#FEECDB', 'Lower/Early Holocene': '#FEECDB', 'Holocene': '#FEEBD2', 'Upper Pleistocene': '#FFF2D3', 'Upper/Late Pleistocene': '#FFF2D3', 'Chibanian': '#FFF2C7', 'Middle Pleistocene': '#FFF2C7', 'Calabrian': '#FFF2BA', 'Gelasian': '#FFEDB3', 'Lower/Early Pleistocene': '#FFF0B9', 'Pleistocene': '#FFEFAF', 'Quaternary': '#F9F97F', 'Piacenzian': '#FFFFBF', 'Upper/Late Pliocene': '#FFF2CD', 'Zanclean': '#FFFFB3', 'Lower/Early Pliocene': '#FFF2C3', 'Pliocene': '#FFFF99', 'Messinian': '#FFFF73', 'Tortonian': '#FFFF66', 'Upper/Late Miocene': '#FFEC8C', 'Serravallian': '#FFFF59', 'Langhian': '#FFFF4D', 'Middle Miocene': '#FFEC73', 'Burdigalian': '#FFFF41', 'Aquitanian': '#FFFF33', 'Lower/Early Miocene': '#FFEC55', 'Miocene': '#FFFF00', 'Neogene': '#FFE619', 'Chattian': '#FEE6AA', 'Rupelian': '#FED99A', 'Oligocene': '#FEC07A', 'Priabonian': '#FDCDA1', 'Bartonian': '#FDC091', 'Lutetian': '#FDB482', 'Ypresian': '#FCA773', 'Eocene': '#FDB46C', 'Thanetian': '#FDBF6F', 'Selandian': '#FEBF65', 'Danian': '#FDB462', 'Paleocene': '#FDA75F', 'Paleogene': '#FD9A52', 'Cenozoic': '#F2F91D', 'Maastrichtian': '#F2FA8C', 'Campanian': '#E6F47F', 'Santonian': '#D9EF74', 'Coniacian': '#CCE968', 'Turonian': '#BFE35D', 'Cenomanian': '#B3DE53', 'Upper Cretaceous': '#A6D84A', 'Albian': '#CCEA97', 'Aptian': '#BFE48A', 'Barremian': '#B3DF7F', 'Hauterivian': '#A6D975', 'Valanginian': '#99D36A', 'Berriasian': '#8CCD60', 'Lower Cretaceous': '#8CCD57', 'Cretaceous': '#7FC64E', 'Tithonian': '#D9F1F7', 'Kimmeridgian': '#CCECF4', 'Oxfordian': '#BFE7F1', 'Upper Jurassic': '#B3E3EE', 'Callovian': '#BFE7E5', 'Bathonian': '#B3E2E3', 'Bajocian': '#A6DDE0', 'Aalenian': '#9AD9DD', 'Middle Jurassic': '#80CFD8', 'Toarcian': '#99CEE3', 'Pliensbachian': '#80C5DD', 'Sinemurian': '#67BCD8', 'Hettangian': '#4EB3D3', 'Lower Jurassic': '#42AED0', 'Jurassic': '#34B2C9', 'Rhaetian': '#E3B9DB', 'Norian': '#D6AAD3', 'Carnian': '#C99BCB', 'Upper Triassic': '#BD8CC3', 'Ladinian': '#C983BF', 'Anisian': '#BC75B7', 'Middle Triassic': '#B168B1', 'Olenekian': '#B051A5', 'Induan': '#A4469F', 'Lower Triassic': '#983999', 'Triassic': '#812B92', 'Mesozoic': '#67C5CA', 'Changhsingian': '#FCC0B2', 'Wuchiapingian': '#FCB4A2', 'Lopingian': '#FBA794', 'Capitanian': '#FB9A85', 'Wordian': '#FB8D76', 'Roadian': '#FB8069', 'Guadalupian': '#FB745C', 'Kungurian': '#E38776', 'Artinskian': '#E37B68', 'Sakmarian': '#E36F5C', 'Asselian': '#E36350', 'Cisuralian': '#EF5845', 'Permian': '#F04028', 'Gzhelian': '#CCD4C7', 'Kasimovian': '#BFD0C5', 'Upper Pennsylvanian': '#BFD0BA', 'Moscovian': '#B3CBB9', 'Middle Pennsylvanian': '#A6C7B7', 'Bashkirian': '#99C2B5', 'Lower Pennsylvanian': '#8CBEB4', 'Pennsylvanian': '#7EBCC6', 'Serpukhovian': '#BFC26B', 'Upper Mississippian': '#B3BE6C', 'Visean': '#A6B96C', 'Middle Mississippian': '#99B46C', 'Tournaisian': '#8CB06C', 'Lower Mississippian': '#80AB6C', 'Mississippian': '#678F66', 'Carboniferous': '#67A599', 'Famennian': '#F2EDB3', 'Frasnian': '#F2EDAD', 'Upper Devonian': '#F1E19D', 'Givetian': '#F1E185', 'Eifelian': '#F1D576', 'Middle Devonian': '#F1C868', 'Emsian': '#E5D075', 'Pragian': '#E5C468', 'Lochkovian': '#E5B75A', 'Lower Devonian': '#E5AC4D', 'Devonian': '#CB8C37', 'Pridoli': '#E6F5E1', 'Ludfordian': '#D9F0DF', 'Gorstian': '#CCECDD', 'Ludlow': '#BFE6CF', 'Homerian': '#CCEBD1', 'Sheinwoodian': '#BFE6C3', 'Wenlock': '#B3E1C2', 'Telychian': '#BFE6CF', 'Aeronian': '#B3E1C2', 'Rhuddanian': '#A6DCB5', 'Llandovery': '#99D7B3', 'Silurian': '#B3E1B6', 'Hirnantian': '#A6DBAB', 'Katian': '#99D69F', 'Sandbian': '#8CD094', 'Upper Ordovician': '#7FCA93', 'Darriwilian': '#74C69C', 'Dapingian': '#66C092', 'Middle Ordovician': '#4DB47E', 'Floian': '#41B087', 'Tremadocian': '#33A97E', 'Lower Ordovician': '#1A9D6F', 'Ordovician': '#009270', 'Stage 10': '#E6F5C9', 'Jiangshanian': '#D9F0BB', 'Paibian': '#CCEBAE', 'Furongian': '#B3E095', 'Guzhangian': '#CCDFAA', 'Drumian': '#BFD99D', 'Wuliuan': '#B3D492', 'Miaolingian': '#A6CF86', 'Stage 4': '#B3CA8E', 'Stage 3': '#A6C583', 'Series 2': '#99C078', 'Stage 2': '#A6BA80', 'Fortunian': '#99B575', 'Terreneuvian': '#8CB06C', 'Cambrian': '#7FA056', 'Paleozoic': '#99C08D', 'Phanerozoic': '#9AD9DD', 'Ediacaran': '#FED96A', 'Cryogenian': '#FECC5C', 'Tonian': '#FEBF4E', 'Neoproterozoic': '#FEB342', 'Stenian': '#FED99A', 'Ectasian': '#FDCC8A', 'Calymmian': '#FDC07A', 'Mesoproterozoic': '#FDB462', 'Statherian': '#F875A7', 'Orosirian': '#F76898', 'Rhyacian': '#F75B89', 'Siderian': '#F74F7C', 'Paleoproterozoic': '#F74370', 'Proterozoic': '#F73563', 'unnamed1': '#FAA7C8', 'Neoarchean': '#F99BC1', 'unnamed2': '#F881B5', 'Mesoarchean': '#F768A9', 'unnamed3': '#F668B2', 'Paleoarchean': '#F4449F', 'unnamed4': '#E61D8C', 'Eoarchean': '#DA037F', 'Archean': '#F0047F', 'Hadean': '#AE027E', 'Precambrian': '#F74370', None: '#FFFFFF'}\n"
     ]
    }
   ],
   "source": [
    "color_sheet = pd.read_excel('CGMW_ICS_colour_codes.xlsx',skiprows=9)\n",
    "header = pd.read_excel('CGMW_ICS_colour_codes.xlsx',header=5).columns\n",
    "color_sheet.columns = header\n",
    "\n",
    "color_dict = dict(zip(color_sheet['Long List (formatted)'],color_sheet['HTML RGB HASH']))\n",
    "color_dict[None] = '#FFFFFF'\n",
    "print(color_dict)"
   ]
  },
  {
   "cell_type": "code",
   "execution_count": 91,
   "metadata": {},
   "outputs": [],
   "source": [
    "# Read files\n",
    "A_layers = ['Polygons-K-38-37-A','Polygonz4-K-38-25-V','Polygonz4-K3813','Polygonz4K-38-35-G','Polygonz4K-38-38-G']\n",
    "B_layer = 'Polygonz4-K-38-V-G'\n",
    "\n",
    "maps = []\n",
    "for name in A_layers:\n",
    "    layer = gpd.read_file('../digitized_maps/SovietDigitizing_041124_A.gpkg',layer=name)\n",
    "    maps.append(layer)\n",
    "\n",
    "B = gpd.read_file('../digitized_maps/SovietDigitizing_041124_B.gpkg',layer=B_layer)\n",
    "maps.append(B)\n",
    "\n",
    "map_names = ['K-38-38-A','K-38-25-V','K3813','K-38-35-G','K-38-38-G','K-38-38-V']\n"
   ]
  },
  {
   "cell_type": "code",
   "execution_count": 83,
   "metadata": {},
   "outputs": [
    {
     "name": "stdout",
     "output_type": "stream",
     "text": [
      "['C11kz' 'C2-Tch' 'C21-Tch' 'C3kupsilon1' 'Cr1' 'Cr1ap+al' 'Cr1b' 'Cr1v+h'\n",
      " 'Cr2' 'Cr2cm' 'Cr2t-d' 'D2+3kr' 'Enk' 'Ice' 'J' 'J11mr1' 'J11mr2'\n",
      " 'J21mr2' 'J21ms1' 'J21ms11' 'J21ms2' 'J21ms21' 'J2S2' 'J2bj' 'J2bt'\n",
      " 'J2ch3' 'J2hd1' 'J2hd2' 'J2hd3' 'J2hd4' 'J2s2' 'J2tl1' 'J2tl2' 'J31'\n",
      " 'J31s' 'J31s1' 'J3cupsilon' 'J3km' 'K1b' 'K1brdashh' 'N1m' 'N1s' 'N1s1+2'\n",
      " 'N21' 'N2gr' 'N2pn' 'O-S1dl' 'Pg1+Pg1+22' 'Pg2(1)2' 'Pg2(2+3)2' 'Pg3+N11'\n",
      " 'Pg32' 'Q' 'S2-D1+2lh' 'S2-D1bl' 'betaCr2t' 'betaJ2' 'betaTr' 'betamuJ2'\n",
      " 'cJ2bt' 'deltaJ2' 'gamma1C21-C2' 'gamma2C21-C2' 'gammaD3-C11' 'gammaJ2'\n",
      " 'gammadeltaJ2' 'muthetaTr' 'pC21-C2' 'phiupsilonJ2' 'qdeltaJ2'\n",
      " 'qdeltamuJ2' 'upsilionbetaJ2']\n",
      "72\n"
     ]
    },
    {
     "name": "stderr",
     "output_type": "stream",
     "text": [
      "/tmp/ipykernel_20139/1044269172.py:1: FutureWarning: The default dtype for empty Series will be 'object' instead of 'float64' in a future version. Specify a dtype explicitly to silence this warning.\n",
      "  all_units = pd.Series()\n"
     ]
    }
   ],
   "source": [
    "all_units = pd.Series()\n",
    "for map in maps:\n",
    "    map.rename(columns={'units':'unit'},inplace=True)\n",
    "    map_units = pd.Series(map.unit.unique())\n",
    "    all_units = pd.concat([all_units,map_units])\n",
    "\n",
    "unique_units = all_units.unique()\n",
    "unique_units.sort()\n",
    "\n",
    "print(unique_units)\n",
    "print(len(unique_units))"
   ]
  },
  {
   "cell_type": "code",
   "execution_count": 84,
   "metadata": {},
   "outputs": [],
   "source": [
    "df = pd.DataFrame(index=unique_units)\n",
    "\n",
    "div1_dic = {'C1':'Carboniferous','C2':'Carboniferous','C3':'Carboniferous','T':'Triassic','Cr':'Cretaceous','E':'Eocene','Ice':None,'J':'Jurassic','K':'Cretaceous',\n",
    "        'N':'Neogene','O':'Ordovician','S':'Silurian','Pg':'Paleogene','Q':'Quaternary','D':'Devonian'}\n",
    "\n",
    "div1_order = ['Ordovician','Silurian','Devonian','Carboniferous','Triassic','Jurassic','Cretaceous','Paleogene','Eocene','Neogene','Quaternary']\n",
    "\n",
    "for unit in unique_units:\n",
    "    div1 = [v for k,v in div1_dic.items() if k in unit]\n",
    "\n",
    "    if len(div1)==1:\n",
    "        earliest_time = div1[0]\n",
    "    \n",
    "    elif len(div1)>1:\n",
    "        positions = []\n",
    "        for time in div1:\n",
    "            positions.append(div1_order.index(time))\n",
    "        earliest_index = positions.index(min(positions))\n",
    "        earliest_time = div1[earliest_index]\n",
    "\n",
    "        \n",
    "    df.loc[unit,'div1'] = earliest_time\n",
    "    df.loc[unit,'div1_color'] = color_dict[earliest_time]\n"
   ]
  },
  {
   "cell_type": "code",
   "execution_count": 85,
   "metadata": {},
   "outputs": [],
   "source": [
    "df.to_csv('unit_info.csv')"
   ]
  },
  {
   "cell_type": "code",
   "execution_count": 107,
   "metadata": {},
   "outputs": [
    {
     "name": "stdout",
     "output_type": "stream",
     "text": [
      "{'DXF': 'rw', 'CSV': 'raw', 'OpenFileGDB': 'raw', 'ESRIJSON': 'r', 'ESRI Shapefile': 'raw', 'FlatGeobuf': 'raw', 'GeoJSON': 'raw', 'GeoJSONSeq': 'raw', 'GPKG': 'raw', 'GML': 'rw', 'OGR_GMT': 'rw', 'GPX': 'rw', 'MapInfo File': 'raw', 'DGN': 'raw', 'S57': 'r', 'SQLite': 'raw', 'TopoJSON': 'r'}\n"
     ]
    }
   ],
   "source": [
    "unit_dict = df.to_dict()\n",
    "\n",
    "print(fiona.supported_drivers)\n",
    "\n",
    "for k,map in enumerate(maps):\n",
    "    map.rename(columns={'units':'unit'},inplace=True)\n",
    "    map['div1'] = map['unit'].map(unit_dict['div1'])\n",
    "    map['div1_color'] = map['unit'].map(unit_dict['div1_color'])\n",
    "\n",
    "    filename = map_names[k] + '.gpkg'\n",
    "    \n",
    "    map.to_file(filename,driver='GPKG',layer=map_names[k],engine=\"fiona\")"
   ]
  }
 ],
 "metadata": {
  "kernelspec": {
   "display_name": "dev-geoscripts-gchem",
   "language": "python",
   "name": "python3"
  },
  "language_info": {
   "codemirror_mode": {
    "name": "ipython",
    "version": 3
   },
   "file_extension": ".py",
   "mimetype": "text/x-python",
   "name": "python",
   "nbconvert_exporter": "python",
   "pygments_lexer": "ipython3",
   "version": "3.11.8"
  }
 },
 "nbformat": 4,
 "nbformat_minor": 2
}
