{
 "cells": [
  {
   "cell_type": "code",
   "execution_count": 2,
   "metadata": {},
   "outputs": [],
   "source": [
    "import os\n",
    "\n",
    "import geopandas as gpd\n",
    "import pandas as pd\n",
    "import seaborn as sns\n",
    "import cmcrameri.cm as cmc\n",
    "from cmcrameri import show_cmaps"
   ]
  },
  {
   "cell_type": "code",
   "execution_count": 3,
   "metadata": {},
   "outputs": [
    {
     "name": "stdout",
     "output_type": "stream",
     "text": [
      "{'Upper/Late Holocene': '#FDEDEC', 'Northgrippian': '#FDECE4', 'Middle Holocene': '#FDECE4', 'Greenlandian': '#FEECDB', 'Lower/Early Holocene': '#FEECDB', 'Holocene': '#FEEBD2', 'Upper Pleistocene': '#FFF2D3', 'Upper/Late Pleistocene': '#FFF2D3', 'Chibanian': '#FFF2C7', 'Middle Pleistocene': '#FFF2C7', 'Calabrian': '#FFF2BA', 'Gelasian': '#FFEDB3', 'Lower/Early Pleistocene': '#FFF0B9', 'Pleistocene': '#FFEFAF', 'Quaternary': '#F9F97F', 'Piacenzian': '#FFFFBF', 'Upper/Late Pliocene': '#FFF2CD', 'Zanclean': '#FFFFB3', 'Lower/Early Pliocene': '#FFF2C3', 'Pliocene': '#FFFF99', 'Messinian': '#FFFF73', 'Tortonian': '#FFFF66', 'Upper/Late Miocene': '#FFEC8C', 'Serravallian': '#FFFF59', 'Langhian': '#FFFF4D', 'Middle Miocene': '#FFEC73', 'Burdigalian': '#FFFF41', 'Aquitanian': '#FFFF33', 'Lower/Early Miocene': '#FFEC55', 'Miocene': '#FFFF00', 'Neogene': '#FFE619', 'Chattian': '#FEE6AA', 'Rupelian': '#FED99A', 'Oligocene': '#FEC07A', 'Priabonian': '#FDCDA1', 'Bartonian': '#FDC091', 'Lutetian': '#FDB482', 'Ypresian': '#FCA773', 'Eocene': '#FDB46C', 'Thanetian': '#FDBF6F', 'Selandian': '#FEBF65', 'Danian': '#FDB462', 'Paleocene': '#FDA75F', 'Paleogene': '#FD9A52', 'Cenozoic': '#F2F91D', 'Maastrichtian': '#F2FA8C', 'Campanian': '#E6F47F', 'Santonian': '#D9EF74', 'Coniacian': '#CCE968', 'Turonian': '#BFE35D', 'Cenomanian': '#B3DE53', 'Upper Cretaceous': '#A6D84A', 'Albian': '#CCEA97', 'Aptian': '#BFE48A', 'Barremian': '#B3DF7F', 'Hauterivian': '#A6D975', 'Valanginian': '#99D36A', 'Berriasian': '#8CCD60', 'Lower Cretaceous': '#8CCD57', 'Cretaceous': '#7FC64E', 'Tithonian': '#D9F1F7', 'Kimmeridgian': '#CCECF4', 'Oxfordian': '#BFE7F1', 'Upper Jurassic': '#B3E3EE', 'Callovian': '#BFE7E5', 'Bathonian': '#B3E2E3', 'Bajocian': '#A6DDE0', 'Aalenian': '#9AD9DD', 'Middle Jurassic': '#80CFD8', 'Toarcian': '#99CEE3', 'Pliensbachian': '#80C5DD', 'Sinemurian': '#67BCD8', 'Hettangian': '#4EB3D3', 'Lower Jurassic': '#42AED0', 'Jurassic': '#34B2C9', 'Rhaetian': '#E3B9DB', 'Norian': '#D6AAD3', 'Carnian': '#C99BCB', 'Upper Triassic': '#BD8CC3', 'Ladinian': '#C983BF', 'Anisian': '#BC75B7', 'Middle Triassic': '#B168B1', 'Olenekian': '#B051A5', 'Induan': '#A4469F', 'Lower Triassic': '#983999', 'Triassic': '#812B92', 'Mesozoic': '#67C5CA', 'Changhsingian': '#FCC0B2', 'Wuchiapingian': '#FCB4A2', 'Lopingian': '#FBA794', 'Capitanian': '#FB9A85', 'Wordian': '#FB8D76', 'Roadian': '#FB8069', 'Guadalupian': '#FB745C', 'Kungurian': '#E38776', 'Artinskian': '#E37B68', 'Sakmarian': '#E36F5C', 'Asselian': '#E36350', 'Cisuralian': '#EF5845', 'Permian': '#F04028', 'Gzhelian': '#CCD4C7', 'Kasimovian': '#BFD0C5', 'Upper Pennsylvanian': '#BFD0BA', 'Moscovian': '#B3CBB9', 'Middle Pennsylvanian': '#A6C7B7', 'Bashkirian': '#99C2B5', 'Lower Pennsylvanian': '#8CBEB4', 'Pennsylvanian': '#7EBCC6', 'Serpukhovian': '#BFC26B', 'Upper Mississippian': '#B3BE6C', 'Visean': '#A6B96C', 'Middle Mississippian': '#99B46C', 'Tournaisian': '#8CB06C', 'Lower Mississippian': '#80AB6C', 'Mississippian': '#678F66', 'Carboniferous': '#67A599', 'Famennian': '#F2EDB3', 'Frasnian': '#F2EDAD', 'Upper Devonian': '#F1E19D', 'Givetian': '#F1E185', 'Eifelian': '#F1D576', 'Middle Devonian': '#F1C868', 'Emsian': '#E5D075', 'Pragian': '#E5C468', 'Lochkovian': '#E5B75A', 'Lower Devonian': '#E5AC4D', 'Devonian': '#CB8C37', 'Pridoli': '#E6F5E1', 'Ludfordian': '#D9F0DF', 'Gorstian': '#CCECDD', 'Ludlow': '#BFE6CF', 'Homerian': '#CCEBD1', 'Sheinwoodian': '#BFE6C3', 'Wenlock': '#B3E1C2', 'Telychian': '#BFE6CF', 'Aeronian': '#B3E1C2', 'Rhuddanian': '#A6DCB5', 'Llandovery': '#99D7B3', 'Silurian': '#B3E1B6', 'Hirnantian': '#A6DBAB', 'Katian': '#99D69F', 'Sandbian': '#8CD094', 'Upper Ordovician': '#7FCA93', 'Darriwilian': '#74C69C', 'Dapingian': '#66C092', 'Middle Ordovician': '#4DB47E', 'Floian': '#41B087', 'Tremadocian': '#33A97E', 'Lower Ordovician': '#1A9D6F', 'Ordovician': '#009270', 'Stage 10': '#E6F5C9', 'Jiangshanian': '#D9F0BB', 'Paibian': '#CCEBAE', 'Furongian': '#B3E095', 'Guzhangian': '#CCDFAA', 'Drumian': '#BFD99D', 'Wuliuan': '#B3D492', 'Miaolingian': '#A6CF86', 'Stage 4': '#B3CA8E', 'Stage 3': '#A6C583', 'Series 2': '#99C078', 'Stage 2': '#A6BA80', 'Fortunian': '#99B575', 'Terreneuvian': '#8CB06C', 'Cambrian': '#7FA056', 'Paleozoic': '#99C08D', 'Phanerozoic': '#9AD9DD', 'Ediacaran': '#FED96A', 'Cryogenian': '#FECC5C', 'Tonian': '#FEBF4E', 'Neoproterozoic': '#FEB342', 'Stenian': '#FED99A', 'Ectasian': '#FDCC8A', 'Calymmian': '#FDC07A', 'Mesoproterozoic': '#FDB462', 'Statherian': '#F875A7', 'Orosirian': '#F76898', 'Rhyacian': '#F75B89', 'Siderian': '#F74F7C', 'Paleoproterozoic': '#F74370', 'Proterozoic': '#F73563', 'unnamed1': '#FAA7C8', 'Neoarchean': '#F99BC1', 'unnamed2': '#F881B5', 'Mesoarchean': '#F768A9', 'unnamed3': '#F668B2', 'Paleoarchean': '#F4449F', 'unnamed4': '#E61D8C', 'Eoarchean': '#DA037F', 'Archean': '#F0047F', 'Hadean': '#AE027E', 'Precambrian': '#F74370', None: '#FFFFFF'}\n"
     ]
    }
   ],
   "source": [
    "color_sheet = pd.read_excel('CGMW_ICS_colour_codes.xlsx',skiprows=9)\n",
    "header = pd.read_excel('CGMW_ICS_colour_codes.xlsx',header=5).columns\n",
    "color_sheet.columns = header\n",
    "\n",
    "color_dict = dict(zip(color_sheet['Long List (formatted)'],color_sheet['HTML RGB HASH']))\n",
    "color_dict[None] = '#FFFFFF'\n",
    "print(color_dict)"
   ]
  },
  {
   "cell_type": "code",
   "execution_count": 4,
   "metadata": {},
   "outputs": [],
   "source": [
    "# Read files\n",
    "A_layers = ['Polygons-K-38-37-A','Polygonz4-K-38-25-V','Polygonz4-K3813','Polygonz4K-38-35-G','Polygonz4K-38-38-G']\n",
    "B_layer = 'Polygonz4-K-38-V-G'\n",
    "\n",
    "maps = []\n",
    "for name in A_layers:\n",
    "    layer = gpd.read_file('../digitized_maps/SovietDigitizing_041124_A.gpkg',layer=name)\n",
    "    maps.append(layer)\n",
    "\n",
    "B = gpd.read_file('../digitized_maps/SovietDigitizing_041124_B.gpkg',layer=B_layer)\n",
    "maps.append(B)\n",
    "\n",
    "map_names = ['K-38-38-A','K-38-25-V','K3813','K-38-35-G','K-38-38-G','K-38-38-V']"
   ]
  },
  {
   "cell_type": "code",
   "execution_count": 5,
   "metadata": {},
   "outputs": [
    {
     "name": "stdout",
     "output_type": "stream",
     "text": [
      "['C11kz' 'C2-Tch' 'C21-Tch' 'C3kupsilon1' 'Cr1' 'Cr1ap+al' 'Cr1b' 'Cr1v+h'\n",
      " 'Cr2' 'Cr2cm' 'Cr2t-d' 'D2+3kr' 'Enk' 'Ice' 'J' 'J11mr1' 'J11mr2'\n",
      " 'J21mr2' 'J21ms1' 'J21ms11' 'J21ms2' 'J21ms21' 'J2S2' 'J2bj' 'J2bt'\n",
      " 'J2ch3' 'J2hd1' 'J2hd2' 'J2hd3' 'J2hd4' 'J2s2' 'J2tl1' 'J2tl2' 'J31'\n",
      " 'J31s' 'J31s1' 'J3cupsilon' 'J3km' 'K1b' 'K1brdashh' 'N1m' 'N1s' 'N1s1+2'\n",
      " 'N21' 'N2gr' 'N2pn' 'O-S1dl' 'Pg1+Pg1+22' 'Pg2(1)2' 'Pg2(2+3)2' 'Pg3+N11'\n",
      " 'Pg32' 'Q' 'S2-D1+2lh' 'S2-D1bl' 'betaCr2t' 'betaJ2' 'betaTr' 'betamuJ2'\n",
      " 'cJ2bt' 'deltaJ2' 'gamma1C21-C2' 'gamma2C21-C2' 'gammaD3-C11' 'gammaJ2'\n",
      " 'gammadeltaJ2' 'muthetaTr' 'pC21-C2' 'phiupsilonJ2' 'qdeltaJ2'\n",
      " 'qdeltamuJ2' 'upsilionbetaJ2']\n",
      "72\n"
     ]
    },
    {
     "name": "stderr",
     "output_type": "stream",
     "text": [
      "/tmp/ipykernel_736/1462694016.py:1: FutureWarning: The default dtype for empty Series will be 'object' instead of 'float64' in a future version. Specify a dtype explicitly to silence this warning.\n",
      "  all_units = pd.Series()\n"
     ]
    }
   ],
   "source": [
    "all_units = pd.Series()\n",
    "for map in maps:\n",
    "    map.rename(columns={'units':'unit'},inplace=True)\n",
    "    map_units = pd.Series(map.unit.unique())\n",
    "    all_units = pd.concat([all_units,map_units])\n",
    "\n",
    "unique_units = all_units.unique()\n",
    "unique_units.sort()\n",
    "\n",
    "print(unique_units)\n",
    "print(len(unique_units))\n",
    "\n",
    "unit_dict={}"
   ]
  },
  {
   "cell_type": "code",
   "execution_count": 6,
   "metadata": {},
   "outputs": [
    {
     "name": "stdout",
     "output_type": "stream",
     "text": [
      "#009270\n",
      "['#222725', '#1a4238', '#115d4b', '#08785d', '#009270']\n"
     ]
    },
    {
     "data": {
      "image/png": "[encoded data removed]",
      "text/plain": [
       "<Figure size 500x100 with 1 Axes>"
      ]
     },
     "metadata": {},
     "output_type": "display_data"
    }
   ],
   "source": [
    "# Ordovician\n",
    "base = color_dict['Ordovician']\n",
    "print(base)\n",
    "\n",
    "colors = sns.dark_palette(base,n_colors=5).as_hex()\n",
    "print(colors)\n",
    "sns.palplot(colors)\n",
    "\n",
    "unit_dict.update({'O-S1dl':colors[2]})"
   ]
  },
  {
   "cell_type": "code",
   "execution_count": 7,
   "metadata": {},
   "outputs": [
    {
     "name": "stdout",
     "output_type": "stream",
     "text": [
      "#B3E1B6\n",
      "['#252625', '#485549', '#6c846e', '#90b392', '#b3e1b6']\n"
     ]
    },
    {
     "data": {
      "image/png": "[encoded data removed]",
      "text/plain": [
       "<Figure size 500x100 with 1 Axes>"
      ]
     },
     "metadata": {},
     "output_type": "display_data"
    }
   ],
   "source": [
    "# Silurian\n",
    "base = color_dict['Silurian']\n",
    "print(base)\n",
    "\n",
    "colors = sns.dark_palette(base,n_colors=5).as_hex()\n",
    "print(colors)\n",
    "sns.palplot(colors)\n",
    "\n",
    "unit_dict.update({'S2-D1+2lh':colors[1],'S2-D1bl':colors[2]})\n"
   ]
  },
  {
   "cell_type": "code",
   "execution_count": 8,
   "metadata": {},
   "outputs": [
    {
     "name": "stdout",
     "output_type": "stream",
     "text": [
      "#CB8C37\n",
      "['#292522', '#513f28', '#7a592d', '#a37332', '#cb8c37']\n"
     ]
    },
    {
     "data": {
      "image/png": "[encoded data removed]",
      "text/plain": [
       "<Figure size 500x100 with 1 Axes>"
      ]
     },
     "metadata": {},
     "output_type": "display_data"
    }
   ],
   "source": [
    "# Devonian\n",
    "base = color_dict['Devonian']\n",
    "print(base)\n",
    "\n",
    "colors = sns.dark_palette(base,n_colors=5).as_hex()\n",
    "print(colors)\n",
    "sns.palplot(colors)\n",
    "\n",
    "unit_dict.update({'D2+3kr':colors[2]})"
   ]
  },
  {
   "cell_type": "code",
   "execution_count": 9,
   "metadata": {},
   "outputs": [
    {
     "name": "stdout",
     "output_type": "stream",
     "text": [
      "#67A599\n",
      "['#242626', '#354643', '#466660', '#56867c', '#67a599']\n"
     ]
    },
    {
     "data": {
      "image/png": "[encoded data removed]",
      "text/plain": [
       "<Figure size 500x100 with 1 Axes>"
      ]
     },
     "metadata": {},
     "output_type": "display_data"
    }
   ],
   "source": [
    "# Carboniferous\n",
    "base = color_dict['Carboniferous']\n",
    "print(base)\n",
    "\n",
    "colors = sns.dark_palette(base,n_colors=5).as_hex()\n",
    "print(colors)\n",
    "sns.palplot(colors)\n",
    "\n",
    "unit_dict.update({'C11kz':colors[1],'C2-Tch':colors[2],'C21-Tch':colors[2],'C3kupsilon1':colors[4]})"
   ]
  },
  {
   "cell_type": "code",
   "execution_count": 10,
   "metadata": {},
   "outputs": [
    {
     "name": "stdout",
     "output_type": "stream",
     "text": [
      "#42AED0\n",
      "['#232628', '#273940', '#2c4d58', '#306070', '#357488', '#3987a0', '#3e9bb8', '#42aed0']\n"
     ]
    },
    {
     "data": {
      "image/png": "[encoded data removed]",
      "text/plain": [
       "<Figure size 800x100 with 1 Axes>"
      ]
     },
     "metadata": {},
     "output_type": "display_data"
    }
   ],
   "source": [
    "# Early Jurassic\n",
    "base = color_dict['Lower Jurassic']\n",
    "print(base)\n",
    "\n",
    "colors = sns.dark_palette(base,n_colors=8).as_hex()\n",
    "print(colors)\n",
    "sns.palplot(colors)\n",
    "\n",
    "unit_dict.update({'J11mr1':colors[1], 'J11mr2':colors[2],\n",
    " 'J21mr2':colors[3], 'J21ms1':colors[4], 'J21ms11':colors[5], 'J21ms2':colors[6], 'J21ms21':colors[7]}) \n"
   ]
  },
  {
   "cell_type": "code",
   "execution_count": 14,
   "metadata": {},
   "outputs": [
    {
     "name": "stdout",
     "output_type": "stream",
     "text": [
      "#80CFD8\n",
      "['#242626', '#2c3537', '#344547', '#3d5457', '#456467', '#4e7377', '#568287', '#5e9197', '#67a1a8', '#6fb1b8', '#78c0c8', '#80cfd8']\n"
     ]
    },
    {
     "data": {
      "image/png": "[encoded data removed]",
      "text/plain": [
       "<Figure size 1200x100 with 1 Axes>"
      ]
     },
     "metadata": {},
     "output_type": "display_data"
    }
   ],
   "source": [
    "# Middle Jurassic\n",
    "base = color_dict['Middle Jurassic']\n",
    "print(base)\n",
    "\n",
    "colors = sns.dark_palette(base,n_colors=12).as_hex()\n",
    "print(colors)\n",
    "sns.palplot(colors)\n",
    "\n",
    "unit_dict.update({'J2S2':colors[1],'J2bj':colors[3],'J2bt':colors[4],\n",
    " 'J2ch3':colors[5],'J2hd1':colors[6],'J2hd2':colors[7],'J2hd3':colors[8],'J2hd4':colors[9],'J2s2':colors[1],'J2tl1':colors[10],'J2tl2':colors[11]})  \n",
    "\n"
   ]
  },
  {
   "cell_type": "code",
   "execution_count": 17,
   "metadata": {},
   "outputs": [
    {
     "name": "stdout",
     "output_type": "stream",
     "text": [
      "#B3E3EE\n",
      "['#242627', '#414c4e', '#5d7276', '#7a979e', '#96bdc6', '#b3e3ee']\n"
     ]
    },
    {
     "data": {
      "image/png": "[encoded data removed]",
      "text/plain": [
       "<Figure size 600x100 with 1 Axes>"
      ]
     },
     "metadata": {},
     "output_type": "display_data"
    }
   ],
   "source": [
    "# Late Jurassic\n",
    "base = color_dict['Upper Jurassic']\n",
    "print(base)\n",
    "\n",
    "colors = sns.dark_palette(base,n_colors=6).as_hex()\n",
    "print(colors)\n",
    "sns.palplot(colors)\n",
    "\n",
    "unit_dict.update({'J31':colors[1],'J31s':colors[2],'J31s1':colors[3],'J3cupsilon':colors[4],'J3km':colors[5]})  "
   ]
  },
  {
   "cell_type": "code",
   "execution_count": null,
   "metadata": {},
   "outputs": [
    {
     "name": "stdout",
     "output_type": "stream",
     "text": [
      "#7FC64E\n"
     ]
    },
    {
     "data": {
      "text/html": [
       "<svg  width=\"275\" height=\"55\"><rect x=\"0\" y=\"0\" width=\"55\" height=\"55\" style=\"fill:#242722;stroke-width:2;stroke:rgb(255,255,255)\"/><rect x=\"55\" y=\"0\" width=\"55\" height=\"55\" style=\"fill:#3b4f2d;stroke-width:2;stroke:rgb(255,255,255)\"/><rect x=\"110\" y=\"0\" width=\"55\" height=\"55\" style=\"fill:#527738;stroke-width:2;stroke:rgb(255,255,255)\"/><rect x=\"165\" y=\"0\" width=\"55\" height=\"55\" style=\"fill:#689f43;stroke-width:2;stroke:rgb(255,255,255)\"/><rect x=\"220\" y=\"0\" width=\"55\" height=\"55\" style=\"fill:#7fc64e;stroke-width:2;stroke:rgb(255,255,255)\"/></svg>"
      ],
      "text/plain": [
       "[(0.13987108361173997, 0.1511502666606701, 0.1352497940608985),\n",
       " (0.22976426185789767, 0.30809340619312475, 0.17807522060339964),\n",
       " (0.3196574401040554, 0.4650365457255794, 0.2209006471459008),\n",
       " (0.409550618350213, 0.6219796852580342, 0.26372607368840195),\n",
       " (0.4980392156862745, 0.7764705882352941, 0.3058823529411765)]"
      ]
     },
     "execution_count": 11,
     "metadata": {},
     "output_type": "execute_result"
    }
   ],
   "source": [
    "# Cretaceous\n",
    "base = color_dict['Cretaceous']\n",
    "print(base)\n",
    "\n",
    "sns.dark_palette(base,n_colors=5)"
   ]
  }
 ],
 "metadata": {
  "kernelspec": {
   "display_name": "dev-geoscripts-gchem",
   "language": "python",
   "name": "python3"
  },
  "language_info": {
   "codemirror_mode": {
    "name": "ipython",
    "version": 3
   },
   "file_extension": ".py",
   "mimetype": "text/x-python",
   "name": "python",
   "nbconvert_exporter": "python",
   "pygments_lexer": "ipython3",
   "version": "3.11.8"
  }
 },
 "nbformat": 4,
 "nbformat_minor": 2
}
