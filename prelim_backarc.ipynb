{
 "cells": [
  {
   "cell_type": "code",
   "execution_count": null,
   "metadata": {},
   "outputs": [],
   "source": [
    "import numpy as np\n",
    "import pandas as pd\n",
    "import matplotlib.pyplot as plt\n",
    "import cartopy.crs as ccrs\n",
    "from cartopy.io.img_tiles import GoogleTiles\n",
    "\n",
    "from geoscripts import gchemplots as gp\n",
    "from geoscripts import maps"
   ]
  },
  {
   "cell_type": "code",
   "execution_count": null,
   "metadata": {},
   "outputs": [],
   "source": [
    "# Read in organized data\n",
    "data = pd.read_csv('processed/data.csv',index_col=0)\n",
    "\n",
    "# Filter for J and mafic\n",
    "filter_period = (data['Period']=='Jurassic')|(data['Period']=='Jurassic?')|(data['Period']=='Cretaceous')|(data['Period']=='Tertiary?')\n",
    "filter_major =  (data['SiO2']<100)\n",
    "\n",
    "data_filtered = data[filter_period&filter_major]\n",
    "\n",
    "print(data_filtered.index)\n",
    "[print(len(data_filtered.index))]"
   ]
  },
  {
   "cell_type": "code",
   "execution_count": null,
   "metadata": {},
   "outputs": [],
   "source": [
    "# Groups\n",
    "khaishi_core_smps = ['G22034','G22035','G22036A','G22037','G22038','G22039']\n",
    "data_filtered.loc[khaishi_core_smps,'S_Domain'] = 'Khaishi Core'\n",
    "\n",
    "limb_condition = (~data_filtered.index.isin(khaishi_core_smps)) & (data_filtered['S_Domain'] == 'Khaishi')\n",
    "data_filtered.loc[limb_condition,'S_Domain'] = 'Khaishi Limbs'\n",
    "\n",
    "cret_condition = (data_filtered['Period'] == 'Cretaceous')|(data['Period']=='Tertiary?')\n",
    "data_filtered.loc[cret_condition,'S_Domain'] = 'Cretaceous Intrusive'\n",
    "\n",
    "group_dict = {'Khaishi Core':'Khaishi Core','Khaishi Limbs':'Khaishi Limbs','Idliani':'Idliani','Jvari':'Jvari','Lentekhi':'Lentekhi/Panaga','Mazashi':'Mazashi','Panaga':'Lentekhi/Panaga',\n",
    "              'Tsageri-Khvamli':'Tsageri-Khvamli','Dzirula':np.nan,'Pasanauri':np.nan,'Dizi':np.nan,'Cretaceous Intrusive':np.nan}\n",
    "\n",
    "chem_group = [group_dict[x] for x in data_filtered['S_Domain']]\n",
    "\n",
    "groups = data_filtered.groupby(chem_group)"
   ]
  },
  {
   "cell_type": "code",
   "execution_count": null,
   "metadata": {},
   "outputs": [],
   "source": [
    "# Group properties\n",
    "axes_dict = {'Khaishi Core':(0,0),'Khaishi Limbs':(0,0),'Idliani':(1,0),'Jvari':(2,0),'Lentekhi/Panaga':(0,1),'Mazashi':(1,1),'Tsageri-Khvamli':(2,1)}\n",
    "\n",
    "color_dict = {'Khaishi Core':'#88CCEE','Khaishi Limbs':'#44AA99','Idliani':'#117733','Jvari':'#999933','Lentekhi/Panaga':'#AA4499','Mazashi':'#882255','Tsageri-Khvamli':'#CC6677',\n",
    "              np.nan:'#DDDDDD'}\n",
    "\n",
    "# color_dict = {'Khaishi Core':'#762A83','Khaishi Limbs':'#9970AB','Idliani':'#C2A5CF','Jvari':'#E7D4E8','Lentekhi/Panaga':'#1B7837','Mazashi':'#5AAE61','Tsageri-Khvamli':'#ACD39E'}"
   ]
  },
  {
   "cell_type": "code",
   "execution_count": null,
   "metadata": {},
   "outputs": [],
   "source": [
    "# Majors\n",
    "fig,axs = plt.subplots(3,2,dpi=300,figsize=(6.5,7))\n",
    "\n",
    "for k, group in groups:\n",
    "    ax = axs[axes_dict[k]]\n",
    "    color = color_dict[k]\n",
    "    SiO2,Na2O,K2O = group[['SiO2','Na2O','K2O']].T.values\n",
    "    gp.TASsm(SiO2,Na2O,K2O,label=k,ax=ax,color=color,first=[])\n",
    "    ax.set_title(k)\n",
    "\n",
    "plt.tight_layout()\n",
    "fig.savefig('TAS.pdf')"
   ]
  },
  {
   "cell_type": "code",
   "execution_count": null,
   "metadata": {},
   "outputs": [],
   "source": [
    "# Harkers\n",
    "\n",
    "for k, group in groups:\n",
    "    fig,axs = plt.subplots(4,2,figsize=(6.5,9),dpi=300)\n",
    "    fig.suptitle(k)\n",
    "    harker_cols = group.columns.str.replace('*','t')\n",
    "    data_harker = group.copy()\n",
    "    data_harker.columns = harker_cols\n",
    "\n",
    "    gp.harker(data_harker,fig=fig,axs=axs,color=color_dict[k])\n",
    "    fig.savefig(k[0:3]+'_harker.pdf')\n",
    "    plt.close()"
   ]
  },
  {
   "cell_type": "code",
   "execution_count": null,
   "metadata": {},
   "outputs": [],
   "source": [
    "# Spiders\n",
    "\n",
    "fig0,axs0 = plt.subplots(3,2,figsize=(6.5,7),dpi=300)\n",
    "\n",
    "fig1,axs1 = plt.subplots(3,2,figsize=(6.5,7),dpi=300)\n",
    "\n",
    "\n",
    "axs_all = [axs0,axs1]\n",
    "\n",
    "for k, group in groups:\n",
    "    fignum = axes_dict[k][1]\n",
    "    axs = axs_all[fignum]\n",
    "\n",
    "    ax0 = axs[(axes_dict[k][0],0)]\n",
    "    ax1 = axs[(axes_dict[k][0],1)]\n",
    "\n",
    "    ax0.set_title(k)\n",
    "\n",
    "    gp.REE(group,ax=ax0,c=color_dict[k])\n",
    "    gp.immobile(group,ax=ax1,c=color_dict[k])\n",
    "\n",
    "fig0.set_layout_engine('tight')\n",
    "fig1.set_layout_engine('tight')\n",
    "\n",
    "fig0.savefig('west_spiders.pdf')\n",
    "fig1.savefig('east_spiders.pdf')\n",
    "\n"
   ]
  },
  {
   "cell_type": "code",
   "execution_count": null,
   "metadata": {},
   "outputs": [],
   "source": [
    "# Ternary\n",
    "fig = plt.figure(figsize=(6.5,3),dpi=300)\n",
    "ax0 = fig.add_subplot(121,projection='ternary')\n",
    "ax1 = fig.add_subplot(122,projection='ternary')\n",
    "axs = [ax0,ax1]\n",
    "\n",
    "for k,group in groups:\n",
    "    ax = axs[axes_dict[k][1]]\n",
    "    Tb,Th,Ta = group[['Tb','Th','Ta']].T.values\n",
    "    gp.cabanis(Tb,Th,Ta,ax=ax,label=k,c=color_dict[k])\n",
    "\n",
    "lgd = fig.legend()\n",
    "plt.tight_layout()\n",
    "fig.savefig('ternary.pdf',bbox_extra_artists=(lgd,),bbox_inches='tight')"
   ]
  },
  {
   "cell_type": "code",
   "execution_count": null,
   "metadata": {},
   "outputs": [],
   "source": [
    "# Locations\n",
    "img = GoogleTiles(style='satellite')\n",
    "\n",
    "fig = plt.figure(figsize=(6.5,5),dpi=300)\n",
    "ax0 = fig.add_subplot(121,projection=ccrs.PlateCarree())\n",
    "ax1 = fig.add_subplot(122,projection=ccrs.PlateCarree())\n",
    "\n",
    "axs = [ax0,ax1]\n",
    "\n",
    "for ax in axs:\n",
    "    ax.add_image(img,12)\n",
    "    maps.shpplt_simple(shp='map_data/gc_majorfaults_wgs84.shp',edgecolor='red',\n",
    "                    facecolor='None',zorder=1,ax=ax)\n",
    "\n",
    "for k, group in groups:\n",
    "    ax = axs[axes_dict[k][1]]\n",
    "    ax.scatter(group['Longitude'],group['Latitude'],c=color_dict[k],label=k)\n",
    "    #for index,row in group.iterrows():\n",
    "    #    ax.annotate(index,(row['Longitude'],row['Latitude']))\n",
    "\n",
    "\n",
    "\n",
    "lgd = fig.legend()\n",
    "fig.savefig('locations.pdf',bbox_extra_artists=(lgd,),bbox_inches='tight')"
   ]
  },
  {
   "cell_type": "code",
   "execution_count": null,
   "metadata": {},
   "outputs": [],
   "source": [
    "# Mantle Array Plot\n",
    "# Pearce08 Fields (for future function)\n",
    "from matplotlib.patches import Polygon\n",
    "# MORB-OIB Array\n",
    "x = [0.1,0.3,1000,1000,800,0.1]\n",
    "y = [0.01,0.01,48,100,100,0.01]\n",
    "xy_array = np.column_stack((x,y))\n",
    "\n",
    "# Arc Array\n",
    "b = (np.log10(10)-np.log10(1.2))/(np.log10(0.8)-np.log10(0.1))\n",
    "a = np.log10(10)-np.log10(0.8)\n",
    "xvals = np.arange(0,1000)\n",
    "yvals = a*np.power(xvals,b)\n",
    "\n",
    "fig,ax = plt.subplots(1,figsize=(4,4),dpi=300)\n",
    "\n",
    "for k, group in groups:\n",
    "    ax.scatter(group['Nb']/group['Yb'],group['Th']/group['Yb'],c=color_dict[k],\n",
    "               label=k)\n",
    "    ax.set_xscale('log')\n",
    "    ax.set_yscale('log')\n",
    "    pgon = Polygon(xy_array,alpha=0.2,zorder=0,color='gray')\n",
    "    ax.add_patch(pgon)\n",
    "    ax.plot(xvals,yvals,color='gray')\n",
    "    ax.set_xlim(0.1,100)\n",
    "    ax.set_ylim(0.01,10)\n",
    "    ax.set_xlabel('Nb/Yb')\n",
    "    ax.set_ylabel('Th/Yb')\n",
    "    lgd = ax.legend()\n",
    "\n",
    "fig.savefig('mantlearray.pdf',bbox_extra_artists=(lgd,),bbox_inches='tight')"
   ]
  },
  {
   "cell_type": "code",
   "execution_count": null,
   "metadata": {},
   "outputs": [],
   "source": [
    "# Export locations with colors\n",
    "odata = data_filtered.loc[:,['Latitude','Longitude','Latitude','Longitude','Rock_Type','Period','S_Domain']]\n",
    "odata.loc[:,'Chemistry_Group'] = chem_group\n",
    "odata.loc[:,'Color'] = [color_dict[x] for x in chem_group]\n",
    "\n",
    "odata.to_csv('locations.csv')"
   ]
  }
 ],
 "metadata": {
  "kernelspec": {
   "display_name": "dz-caucasus",
   "language": "python",
   "name": "python3"
  },
  "language_info": {
   "codemirror_mode": {
    "name": "ipython",
    "version": 3
   },
   "file_extension": ".py",
   "mimetype": "text/x-python",
   "name": "python",
   "nbconvert_exporter": "python",
   "pygments_lexer": "ipython3",
   "version": "3.10.11"
  }
 },
 "nbformat": 4,
 "nbformat_minor": 2
}
