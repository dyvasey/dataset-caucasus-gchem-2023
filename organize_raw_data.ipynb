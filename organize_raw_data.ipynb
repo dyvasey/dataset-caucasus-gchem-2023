{
 "cells": [
  {
   "cell_type": "code",
   "execution_count": 53,
   "metadata": {},
   "outputs": [],
   "source": [
    "import os\n",
    "import pandas as pd"
   ]
  },
  {
   "cell_type": "code",
   "execution_count": 54,
   "metadata": {},
   "outputs": [],
   "source": [
    "# Read in raw data\n",
    "\n",
    "# For XRF, ignore repeats and standards\n",
    "xrf = pd.read_excel('raw/GAL-DV-21_XRF.xlsx',usecols='A:BB',index_col=0)\n",
    "\n",
    "# For ICPMS, ignnore repeats and standards\n",
    "icpms = pd.read_excel('raw/DV-21-ICPMS.xlsx',index_col=0,nrows=54)\n",
    "\n",
    "# Make directory for processed data\n",
    "os.makedirs('processed',exist_ok=True)"
   ]
  },
  {
   "cell_type": "code",
   "execution_count": 55,
   "metadata": {},
   "outputs": [
    {
     "name": "stdout",
     "output_type": "stream",
     "text": [
      "Index(['SiO2_unnorm', 'TiO2_unnorm', 'Al2O3_unnorm', 'FeO*_unnorm',\n",
      "       'MnO_unnorm', 'MgO_unnorm', 'CaO_unnorm', 'Na2O_unnorm', 'K2O_unnorm',\n",
      "       'P2O5_unnorm'],\n",
      "      dtype='object')\n",
      "Index(['SiO2', 'TiO2', 'Al2O3', 'FeO*', 'MnO', 'MgO', 'CaO', 'Na2O', 'K2O',\n",
      "       'P2O5'],\n",
      "      dtype='object')\n",
      "LOI %\n",
      "Index(['Ni', 'Cr', 'V', 'Ga', 'Cu', 'Zn'], dtype='object')\n",
      "Index(['La', 'Ce', 'Pr', 'Nd', 'Sm', 'Eu', 'Gd', 'Tb', 'Dy', 'Ho', 'Er', 'Tm',\n",
      "       'Yb', 'Lu', 'Ba', 'Th', 'Nb', 'Y', 'Hf', 'Ta', 'U', 'Pb', 'Rb', 'Cs',\n",
      "       'Sr', 'Sc', 'Zr'],\n",
      "      dtype='object')\n",
      "True\n",
      "True\n",
      "Index(['SiO2_unnorm', 'TiO2_unnorm', 'Al2O3_unnorm', 'FeO*_unnorm',\n",
      "       'MnO_unnorm', 'MgO_unnorm', 'CaO_unnorm', 'Na2O_unnorm', 'K2O_unnorm',\n",
      "       'P2O5_unnorm', 'SiO2', 'TiO2', 'Al2O3', 'FeO*', 'MnO', 'MgO', 'CaO',\n",
      "       'Na2O', 'K2O', 'P2O5', 'LOI %', 'Ni', 'Cr', 'V', 'Ga', 'Cu', 'Zn', 'La',\n",
      "       'Ce', 'Pr', 'Nd', 'Sm', 'Eu', 'Gd', 'Tb', 'Dy', 'Ho', 'Er', 'Tm', 'Yb',\n",
      "       'Lu', 'Ba', 'Th', 'Nb', 'Y', 'Hf', 'Ta', 'U', 'Pb', 'Rb', 'Cs', 'Sr',\n",
      "       'Sc', 'Zr'],\n",
      "      dtype='object')\n"
     ]
    }
   ],
   "source": [
    "# Pull unnormalized major elements from XRF and transpose\n",
    "majors_unnorm = xrf.iloc[5:15,:].T\n",
    "\n",
    "# Pull normalized major elements from XRF and transpose to make samples index\n",
    "majors_norm = xrf.iloc[19:29,:].T\n",
    "\n",
    "# Pull LOI from XRF and transpose \n",
    "loi = xrf.iloc[16,:].T\n",
    "\n",
    "# Remove extra space in majors_unnorm columns\n",
    "new_cols = majors_unnorm.columns.str.replace(' ','')\n",
    "new_cols_unnorm = [x+'_unnorm' for x in new_cols]\n",
    "majors_unnorm_corr = majors_unnorm.copy()\n",
    "majors_unnorm_corr.columns = new_cols_unnorm\n",
    "\n",
    "# Remove extra space in majors_norm columns\n",
    "new_cols = majors_norm.columns.str.replace(' ','')\n",
    "majors_norm_corr = majors_norm.copy()\n",
    "majors_norm_corr.columns = new_cols\n",
    "\n",
    "# Pull XRF trace elements and transpose\n",
    "xrf_trace = xrf.iloc[32:51,:].T\n",
    "\n",
    "# Remove extra space in XRF Trace columns\n",
    "new_cols = xrf_trace.columns.str[1:]\n",
    "xrf_trace_corr = xrf_trace.copy()\n",
    "xrf_trace_corr.columns = new_cols\n",
    "\n",
    "# Remove 'ppm' from ICPMS columns\n",
    "new_cols = icpms.columns.str[:-4]\n",
    "icpms_corr = icpms.copy()\n",
    "icpms_corr.columns  = new_cols\n",
    "\n",
    "# Remove XRF data duplicated by ICPMS\n",
    "common_cols = xrf_trace_corr.columns.intersection(icpms_corr.columns)\n",
    "xrf_trace_culled = xrf_trace_corr.drop(common_cols,axis=1)\n",
    "\n",
    "# Check what is in each file\n",
    "print(majors_unnorm_corr.columns)\n",
    "print(majors_norm_corr.columns)\n",
    "print(loi.name)\n",
    "print(xrf_trace_culled.columns)\n",
    "print(icpms_corr.columns)\n",
    "print(majors_norm_corr.index.equals(xrf_trace_culled.index))\n",
    "print(xrf_trace_culled.index.equals(icpms_corr.index))\n",
    "\n",
    "# Combine into single dataframe\n",
    "data_organized = pd.concat([majors_unnorm_corr,majors_norm_corr,loi,xrf_trace_culled,icpms_corr],axis=1)\n",
    "print(data_organized.columns)\n",
    "\n",
    "\n",
    " "
   ]
  },
  {
   "cell_type": "code",
   "execution_count": 56,
   "metadata": {},
   "outputs": [
    {
     "name": "stdout",
     "output_type": "stream",
     "text": [
      "Index(['G22045', 'G22046C'], dtype='object', name='Sample_Num')\n"
     ]
    }
   ],
   "source": [
    "# Read in metadata\n",
    "meta = pd.read_csv('metadata/gchm_smps_long.csv',index_col=0)\n",
    "\n",
    "# Isolate columns of interest\n",
    "meta_cols = ['Latitude','Longitude','Elevation','Rock_Type','Period','S_Domain']\n",
    "\n",
    "# Create placeholder rows for 184 and 186 for now\n",
    "meta.loc['G22184',:] = 0\n",
    "meta.loc['G22186',:] = 0\n",
    "\n",
    "# Fix the misspelled Khaishi\n",
    "typo = meta[meta['S_Domain']=='Khashi'].index\n",
    "print(typo)\n",
    "meta.loc[typo,'S_Domain'] = 'Khaishi'\n",
    "\n",
    "# Isolate rows that were actually run\n",
    "meta_trimmed = meta.loc[data_organized.index,meta_cols]\n",
    "\n",
    "# Add metadata to main table\n",
    "data_final = data_organized.join(meta_trimmed)"
   ]
  },
  {
   "cell_type": "code",
   "execution_count": 57,
   "metadata": {},
   "outputs": [],
   "source": [
    "# Write to CSV\n",
    "data_final.to_csv('processed/data_22.csv')"
   ]
  },
  {
   "cell_type": "code",
   "execution_count": 58,
   "metadata": {},
   "outputs": [
    {
     "name": "stdout",
     "output_type": "stream",
     "text": [
      "Index(['G22019', 'G22020', 'G22032A', 'G22033', 'G22034', 'G22035', 'G22036A',\n",
      "       'G22037', 'G22038', 'G22039', 'G22041A', 'G22041C', 'G22042', 'G22044',\n",
      "       'G22045', 'G22046C', 'G22049', 'G22051', 'G22053', 'G22063', 'G22065',\n",
      "       'G22066', 'G22067', 'G22068A', 'G22068B', 'G22068C', 'G22069', 'G22076',\n",
      "       'G22081', 'G22091', 'G22092', 'G22094', 'G22096', 'G22108A', 'G22109',\n",
      "       'G22110', 'G22111', 'G22114', 'G22115B', 'G22118', 'G22119', 'G22120',\n",
      "       'G22121', 'G22122', 'G22125', 'G22126', 'G22129', 'G22130', 'G22131',\n",
      "       'G22141', 'G22173', 'G22184', 'G22186', 'C17069B', 'V17043A',\n",
      "       '100311-3A'],\n",
      "      dtype='object')\n",
      "Index(['SiO2_unnorm', 'TiO2_unnorm', 'Al2O3_unnorm', 'FeO*_unnorm',\n",
      "       'MnO_unnorm', 'MgO_unnorm', 'CaO_unnorm', 'Na2O_unnorm', 'K2O_unnorm',\n",
      "       'P2O5_unnorm', 'SiO2', 'TiO2', 'Al2O3', 'FeO*', 'MnO', 'MgO', 'CaO',\n",
      "       'Na2O', 'K2O', 'P2O5', 'LOI %', 'Ni', 'Cr', 'V', 'Ga', 'Cu', 'Zn', 'La',\n",
      "       'Ce', 'Pr', 'Nd', 'Sm', 'Eu', 'Gd', 'Tb', 'Dy', 'Ho', 'Er', 'Tm', 'Yb',\n",
      "       'Lu', 'Ba', 'Th', 'Nb', 'Y', 'Hf', 'Ta', 'U', 'Pb', 'Rb', 'Cs', 'Sr',\n",
      "       'Sc', 'Zr', 'Latitude', 'Longitude', 'Elevation', 'Rock_Type', 'Period',\n",
      "       'S_Domain'],\n",
      "      dtype='object')\n"
     ]
    }
   ],
   "source": [
    "# Combine with QE data\n",
    "qe = pd.read_csv('processed/data_qe.csv',index_col=0)\n",
    "\n",
    "data_combined = pd.concat([data_final,qe])\n",
    "print(data_combined.index)\n",
    "print(data_combined.columns)\n",
    "\n",
    "data_combined.to_csv('processed/data.csv')"
   ]
  }
 ],
 "metadata": {
  "kernelspec": {
   "display_name": "local-geoscripts",
   "language": "python",
   "name": "python3"
  },
  "language_info": {
   "codemirror_mode": {
    "name": "ipython",
    "version": 3
   },
   "file_extension": ".py",
   "mimetype": "text/x-python",
   "name": "python",
   "nbconvert_exporter": "python",
   "pygments_lexer": "ipython3",
   "version": "3.11.7"
  },
  "orig_nbformat": 4
 },
 "nbformat": 4,
 "nbformat_minor": 2
}
