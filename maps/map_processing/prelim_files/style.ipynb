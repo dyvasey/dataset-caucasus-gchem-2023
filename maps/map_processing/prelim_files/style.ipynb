{
 "cells": [
  {
   "cell_type": "code",
   "execution_count": null,
   "metadata": {},
   "outputs": [],
   "source": [
    "import os\n",
    "\n",
    "import geopandas as gpd\n",
    "import pandas as pd"
   ]
  },
  {
   "cell_type": "code",
   "execution_count": null,
   "metadata": {},
   "outputs": [],
   "source": [
    "color_sheet = pd.read_excel('../CGMW_ICS_colour_codes.xlsx',skiprows=9)\n",
    "header = pd.read_excel('../CGMW_ICS_colour_codes.xlsx',header=5).columns\n",
    "color_sheet.columns = header\n",
    "\n",
    "color_dict = dict(zip(color_sheet['Long List (formatted)'],color_sheet['HTML RGB HASH']))\n",
    "color_dict[None] = '#FFFFFF'\n",
    "print(color_dict)"
   ]
  },
  {
   "cell_type": "code",
   "execution_count": null,
   "metadata": {},
   "outputs": [],
   "source": [
    "# Read files\n",
    "A_layers = ['Polygons-K-38-37-A','Polygonz4-K-38-25-V','Polygonz4-K3813','Polygonz4K-38-35-G','Polygonz4K-38-38-G']\n",
    "B_layer = 'Polygonz4-K-38-V-G'\n",
    "\n",
    "maps = []\n",
    "for name in A_layers:\n",
    "    layer = gpd.read_file('./digitized_maps/SovietDigitizing_041124_A.gpkg',layer=name)\n",
    "\n",
    "    # Fix upper Jurassic error in 38-38-A (misnamed K-38-37-A in original file)\n",
    "    if name=='Polygons-K-38-37-A':\n",
    "        layer.loc[9:10,'unit'] = 'J3km+t'\n",
    "\n",
    "    maps.append(layer)\n",
    "\n",
    "    \n",
    "\n",
    "B = gpd.read_file('./digitized_maps/SovietDigitizing_041124_B.gpkg',layer=B_layer)\n",
    "\n",
    "# Fix errors in B\n",
    "print(B.loc[19,'unit'])\n",
    "B.loc[19,'unit'] = 'J13s1'\n",
    "print(B.loc[83,'unit'])\n",
    "B.loc[83,'unit'] = 'J2hd4'\n",
    "\n",
    "maps.append(B)\n",
    "\n",
    "map_names = ['K-38-38-A','K-38-25-V','K3813','K-38-35-G','K-38-38-G','K-38-38-V']\n"
   ]
  },
  {
   "cell_type": "code",
   "execution_count": null,
   "metadata": {},
   "outputs": [],
   "source": [
    "all_units = pd.Series()\n",
    "for map in maps:\n",
    "    map.rename(columns={'units':'unit'},inplace=True)\n",
    "    \n",
    "    map.unit.replace({'J2S2':'J2s2','C21-Tch':'C12-Tch','C2-Tch':'C12-Tch','J11mr1':'Tmr1','J11mr2':'Tmr2','J21mr2':'J12mr2','J21ms1':'Tms1','J21ms11':'J12ms11',\n",
    "                      'J21ms2':'J12ms2','J21ms21':'J12ms12','J31':'J13','J31s':'J13s1','J31s1':'J13s1',\n",
    "                      'Pg32':'Pg23','Pg1+Pg1+22':'Pg1+Pg21+2','Pg2(1)2':'Pg22(1)','Pg2(2+3)2':'Pg22(2+3)','N21':'N12',\n",
    "                      'gamma1C21-C2':'gamma1C12-C2','gamma2C21-C2':'gamma2C12-C2','pC21-C2':'pC12-C2'},inplace=True)\n",
    "\n",
    "\n",
    "    map_units = pd.Series(map.unit.unique())\n",
    "    all_units = pd.concat([all_units,map_units])\n",
    "\n",
    "unique_units = all_units.unique()\n",
    "unique_units.sort()\n",
    "\n",
    "print(unique_units)\n",
    "print(len(unique_units))"
   ]
  },
  {
   "cell_type": "code",
   "execution_count": null,
   "metadata": {},
   "outputs": [],
   "source": [
    "df = pd.DataFrame(index=unique_units)\n",
    "\n",
    "div1_dic = {'C1':'Carboniferous','C2':'Carboniferous','C3':'Carboniferous','T':'Triassic','Cr':'Cretaceous','E':'Eocene','Ice':None,'J':'Jurassic','K':'Cretaceous',\n",
    "        'N':'Neogene','O':'Ordovician','S':'Silurian','Pg':'Paleogene','Q':'Quaternary','D':'Devonian'}\n",
    "\n",
    "div1_order = ['Ordovician','Silurian','Devonian','Carboniferous','Triassic','Jurassic','Cretaceous','Paleogene','Eocene','Neogene','Quaternary']\n",
    "\n",
    "for unit in unique_units:\n",
    "    div1 = [v for k,v in div1_dic.items() if k in unit]\n",
    "\n",
    "    if len(div1)==1:\n",
    "        earliest_time = div1[0]\n",
    "    \n",
    "    elif len(div1)>1:\n",
    "        positions = []\n",
    "        for time in div1:\n",
    "            positions.append(div1_order.index(time))\n",
    "        earliest_index = positions.index(min(positions))\n",
    "        earliest_time = div1[earliest_index]\n",
    "\n",
    "        \n",
    "    df.loc[unit,'div1'] = earliest_time\n",
    "    df.loc[unit,'div1_color'] = color_dict[earliest_time]\n"
   ]
  },
  {
   "cell_type": "code",
   "execution_count": null,
   "metadata": {},
   "outputs": [],
   "source": [
    "div2_dic = {'C1':'Mississippian','C3':'Pennsylvanian','Cr1':'Lower Cretaceous','Cr2':'Upper Cretaceous','D2':'Middle Devonian',\n",
    "            'J1':'Lower Jurassic','J2':'Middle Jurassic','J3':'Upper Jurassic','K1':'Lower Cretaceous','N1':'Miocene','N2':'Pliocene',\n",
    "            'E':'Eocene','O':'Ordovician','S1':'Llandovery','S2':'Wenlock','Pg1':'Paleocene','Pg2':'Eocene','Pg3':'Oligocene',\n",
    "            'Q':'Quaternary','T':'Triassic'}\n",
    "\n",
    "div2_order = ['Ordovician','Llandovery','Wenlock','Middle Devonian','Mississippian','Pennsylvanian','Triassic',\n",
    "              'Lower Jurassic','Middle Jurassic','Upper Jurassic','Lower Cretaceous', 'Upper Cretaceous',\n",
    "              'Paleocene','Eocene','Oligocene','Miocene','Pliocene','Quaternary']\n",
    "\n",
    "for unit in unique_units:\n",
    "    div2 = [v for k,v in div2_dic.items() if k in unit]\n",
    "\n",
    "    if len(div2)==1:\n",
    "        earliest_time = div2[0]\n",
    "    \n",
    "    elif len(div2)>1:\n",
    "        positions = []\n",
    "        for time in div2:\n",
    "            positions.append(div2_order.index(time))\n",
    "        earliest_index = positions.index(min(positions))\n",
    "        earliest_time = div2[earliest_index]\n",
    "\n",
    "    elif len(div2)==0:\n",
    "        earliest_time=None\n",
    "\n",
    "    df.loc[unit,'div2'] = earliest_time\n",
    "    df.loc[unit,'div2_color'] = color_dict[earliest_time]"
   ]
  },
  {
   "cell_type": "code",
   "execution_count": null,
   "metadata": {},
   "outputs": [],
   "source": [
    "intrus_dict = {'beta':'red','gamma':'red','mu':'red','delta':'red','phi':'red'}\n",
    "\n",
    "for unit in unique_units:\n",
    "    for k in intrus_dict:\n",
    "        if k in unit:\n",
    "            df.loc[unit,['div1_color','div2_color']]=intrus_dict[k]"
   ]
  },
  {
   "cell_type": "code",
   "execution_count": null,
   "metadata": {},
   "outputs": [],
   "source": [
    "df.to_csv('unit_info.csv')"
   ]
  },
  {
   "cell_type": "code",
   "execution_count": null,
   "metadata": {},
   "outputs": [],
   "source": [
    "shape_dir = 'shapefiles/'\n",
    "os.makedirs(shape_dir,exist_ok=True)\n",
    "unit_dict = df.to_dict()\n",
    "\n",
    "for k,map in enumerate(maps):\n",
    "    map.rename(columns={'units':'unit'},inplace=True)\n",
    "    map['div1'] = map['unit'].map(unit_dict['div1'])\n",
    "    map['div1_color'] = map['unit'].map(unit_dict['div1_color'])\n",
    "    map['div2'] = map['unit'].map(unit_dict['div2'])\n",
    "    map['div2_color'] = map['unit'].map(unit_dict['div2_color'])\n",
    "\n",
    "    filename = map_names[k] + '.shp'\n",
    "    \n",
    "    map.to_file(shape_dir+filename)"
   ]
  }
 ],
 "metadata": {
  "kernelspec": {
   "display_name": "dataset-caucasus-gchem-2023",
   "language": "python",
   "name": "python3"
  },
  "language_info": {
   "codemirror_mode": {
    "name": "ipython",
    "version": 3
   },
   "file_extension": ".py",
   "mimetype": "text/x-python",
   "name": "python",
   "nbconvert_exporter": "python",
   "pygments_lexer": "ipython3",
   "version": "3.11.10"
  }
 },
 "nbformat": 4,
 "nbformat_minor": 2
}
