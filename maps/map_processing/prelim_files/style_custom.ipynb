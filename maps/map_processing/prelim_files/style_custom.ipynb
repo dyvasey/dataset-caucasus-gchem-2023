{
 "cells": [
  {
   "cell_type": "code",
   "execution_count": null,
   "metadata": {},
   "outputs": [],
   "source": [
    "import os\n",
    "\n",
    "import geopandas as gpd\n",
    "import pandas as pd\n",
    "import seaborn as sns\n",
    "import cmcrameri.cm as cmc\n",
    "from cmcrameri import show_cmaps"
   ]
  },
  {
   "cell_type": "code",
   "execution_count": null,
   "metadata": {},
   "outputs": [],
   "source": [
    "color_sheet = pd.read_excel('CGMW_ICS_colour_codes.xlsx',skiprows=9)\n",
    "header = pd.read_excel('CGMW_ICS_colour_codes.xlsx',header=5).columns\n",
    "color_sheet.columns = header\n",
    "\n",
    "color_dict = dict(zip(color_sheet['Long List (formatted)'],color_sheet['HTML RGB HASH']))\n",
    "color_dict[None] = '#FFFFFF'\n",
    "print(color_dict)"
   ]
  },
  {
   "cell_type": "code",
   "execution_count": null,
   "metadata": {},
   "outputs": [],
   "source": [
    "# Read files\n",
    "A_layers = ['Polygons-K-38-37-A','Polygonz4-K-38-25-V','Polygonz4-K3813','Polygonz4K-38-35-G','Polygonz4K-38-38-G']\n",
    "B_layer = 'Polygonz4-K-38-V-G'\n",
    "\n",
    "maps = []\n",
    "for name in A_layers:\n",
    "    layer = gpd.read_file('../digitized_maps/SovietDigitizing_041124_A.gpkg',layer=name)\n",
    "\n",
    "    # Fix upper Jurassic error in 38-38-A (misnamed K-38-37-A in original file)\n",
    "    if name=='Polygons-K-38-37-A':\n",
    "        layer.loc[9:10,'unit'] = 'J3km+t'\n",
    "    maps.append(layer)\n",
    "\n",
    "B = gpd.read_file('../digitized_maps/SovietDigitizing_041124_B.gpkg',layer=B_layer)\n",
    "\n",
    "# Fix error in B\n",
    "print(B.loc[19,'unit'])\n",
    "B.loc[19,'unit'] = 'J13s1'\n",
    "print(B.loc[83,'unit'])\n",
    "B.loc[83,'unit'] = 'J2hd4'\n",
    "\n",
    "maps.append(B)\n",
    "\n",
    "map_names = ['K-38-38-A','K-38-25-V','K3813','K-38-35-G','K-38-38-G','K-38-38-V']"
   ]
  },
  {
   "cell_type": "code",
   "execution_count": null,
   "metadata": {},
   "outputs": [],
   "source": [
    "all_units = pd.Series()\n",
    "for map in maps:\n",
    "    map.rename(columns={'units':'unit'},inplace=True)\n",
    "    \n",
    "    map.unit.replace({'J2S2':'J2s2','C21-Tch':'C12-Tch','C2-Tch':'C12-Tch','J11mr1':'Tmr1','J11mr2':'Tmr2','J21mr2':'J12mr2','J21ms1':'Tms1','J21ms11':'J12ms11',\n",
    "                      'J21ms2':'J12ms2','J21ms21':'J12ms12','J31':'J13','J31s':'J13s1','J31s1':'J13s1',\n",
    "                      'Pg32':'Pg23','Pg1+Pg1+22':'Pg1+Pg21+2','Pg2(1)2':'Pg22(1)','Pg2(2+3)2':'Pg22(2+3)','N21':'N12',\n",
    "                      'gamma1C21-C2':'gamma1C12-C2','gamma2C21-C2':'gamma2C12-C2','pC21-C2':'pC12-C2'},inplace=True)\n",
    "\n",
    "\n",
    "    map_units = pd.Series(map.unit.unique())\n",
    "    all_units = pd.concat([all_units,map_units])\n",
    "\n",
    "unique_units = all_units.unique()\n",
    "unique_units.sort()\n",
    "\n",
    "print(unique_units)\n",
    "print(len(unique_units))\n",
    "\n",
    "unit_dict={}"
   ]
  },
  {
   "cell_type": "code",
   "execution_count": null,
   "metadata": {},
   "outputs": [],
   "source": [
    "# Ordovician\n",
    "base = color_dict['Ordovician']\n",
    "print(base)\n",
    "\n",
    "colors = sns.dark_palette(base,n_colors=5).as_hex()\n",
    "print(colors)\n",
    "sns.palplot(colors)\n",
    "\n",
    "unit_dict.update({'O-S1dl':colors[2]})"
   ]
  },
  {
   "cell_type": "code",
   "execution_count": null,
   "metadata": {},
   "outputs": [],
   "source": [
    "# Silurian\n",
    "base = color_dict['Silurian']\n",
    "print(base)\n",
    "\n",
    "colors = sns.dark_palette(base,n_colors=5).as_hex()\n",
    "print(colors)\n",
    "sns.palplot(colors)\n",
    "\n",
    "unit_dict.update({'S2-D1+2lh':colors[1],'S2-D1bl':colors[2]})\n"
   ]
  },
  {
   "cell_type": "code",
   "execution_count": null,
   "metadata": {},
   "outputs": [],
   "source": [
    "# Devonian\n",
    "base = color_dict['Devonian']\n",
    "print(base)\n",
    "\n",
    "colors = sns.dark_palette(base,n_colors=5).as_hex()\n",
    "print(colors)\n",
    "sns.palplot(colors)\n",
    "\n",
    "unit_dict.update({'D2+3kr':colors[2]})"
   ]
  },
  {
   "cell_type": "code",
   "execution_count": null,
   "metadata": {},
   "outputs": [],
   "source": [
    "# Carboniferous\n",
    "base = color_dict['Mississippian']\n",
    "print(base)\n",
    "\n",
    "colors_dark = sns.dark_palette(base,n_colors=3).as_hex()\n",
    "colors_light = sns.light_palette(base,n_colors=3).as_hex()\n",
    "colors_light.reverse()\n",
    "\n",
    "colors= colors_dark + colors_light[1:]\n",
    "print(colors)\n",
    "sns.palplot(colors)\n",
    "\n",
    "unit_dict.update({'C11kz':colors[2],'C12-Tch':colors[3],'C3kupsilon1':colors[1]})"
   ]
  },
  {
   "cell_type": "code",
   "execution_count": null,
   "metadata": {},
   "outputs": [],
   "source": [
    "# Triasic\n",
    "base = color_dict['Triassic']\n",
    "print(base)\n",
    "\n",
    "colors = sns.dark_palette(base,n_colors=5).as_hex()\n",
    "print(colors)\n",
    "sns.palplot(colors)\n",
    "\n",
    "unit_dict.update({'Tmr1':colors[0],'Tmr2':colors[2],'Tms1':colors[4]}) "
   ]
  },
  {
   "cell_type": "code",
   "execution_count": null,
   "metadata": {},
   "outputs": [],
   "source": [
    "# Early Jurassic\n",
    "base = color_dict['Lower Jurassic']\n",
    "print(base)\n",
    "\n",
    "colors_dark = sns.dark_palette(base,n_colors=5).as_hex()\n",
    "colors_light = sns.light_palette(base,n_colors=5).as_hex()\n",
    "colors_light.reverse()\n",
    "\n",
    "colors= colors_dark + colors_light[1:]\n",
    "print(colors)\n",
    "sns.palplot(colors)\n",
    "\n",
    "unit_dict.update({'J12mr2':colors[4],'J12ms11':colors[5],'J12ms12':colors[3],\n",
    " 'J12ms2':colors[6],'J13':colors[7],'J13s1':colors[2]}) \n"
   ]
  },
  {
   "cell_type": "code",
   "execution_count": null,
   "metadata": {},
   "outputs": [],
   "source": [
    "# Middle Jurassic (200K)\n",
    "base = color_dict['Middle Jurassic']\n",
    "print(base)\n",
    "\n",
    "colors_dark = sns.dark_palette(base,n_colors=3).as_hex()\n",
    "colors_light = sns.light_palette(base,n_colors=3).as_hex()\n",
    "colors_light.reverse()\n",
    "\n",
    "colors= colors_dark + colors_light[1:]\n",
    "print(colors)\n",
    "sns.palplot(colors)\n",
    "\n",
    "unit_dict.update({'J2bj':colors[2],'J2bt':colors[3],'cJ2bt':colors[1]})\n"
   ]
  },
  {
   "cell_type": "code",
   "execution_count": null,
   "metadata": {},
   "outputs": [],
   "source": [
    "# Bajocian\n",
    "base = color_dict['Bajocian']\n",
    "print(base)\n",
    "\n",
    "colors_dark = sns.dark_palette(base,n_colors=5).as_hex()\n",
    "colors_light = sns.light_palette(base,n_colors=5).as_hex()\n",
    "colors_light.reverse()\n",
    "\n",
    "colors= colors_dark + colors_light[1:]\n",
    "print(colors)\n",
    "sns.palplot(colors)\n",
    "\n",
    "\n",
    "unit_dict.update({'J2ch3':colors[4],'J2hd1':colors[5],'J2hd2':colors[3],\n",
    " 'J2hd3':colors[6],'J2hd4':colors[2],'J2s2':colors[7],'J2tl1':colors[1],'J2tl2':colors[8]})"
   ]
  },
  {
   "cell_type": "code",
   "execution_count": null,
   "metadata": {},
   "outputs": [],
   "source": [
    "# Late Jurassic\n",
    "base = color_dict['Upper Jurassic']\n",
    "print(base)\n",
    "\n",
    "colors = sns.dark_palette(base,n_colors=4).as_hex()\n",
    "print(colors)\n",
    "sns.palplot(colors)\n",
    "\n",
    "unit_dict.update({'J3cupsilon':colors[1],'J3km':colors[2],'J3km+t':colors[3]})  "
   ]
  },
  {
   "cell_type": "code",
   "execution_count": null,
   "metadata": {},
   "outputs": [],
   "source": [
    "# Cretaceous (Cr)\n",
    "base = color_dict['Cretaceous']\n",
    "print(base)\n",
    "\n",
    "colors_dark = sns.dark_palette(base,n_colors=6).as_hex()\n",
    "colors_light = sns.light_palette(base,n_colors=6).as_hex()\n",
    "colors_light.reverse()\n",
    "\n",
    "colors= colors_dark + colors_light[1:]\n",
    "print(colors)\n",
    "sns.palplot(colors)\n",
    "\n",
    "unit_dict.update({'Cr1':colors[5],'Cr1ap+al':colors[6],'Cr1b':colors[4],'Cr1v+h':colors[7],'Cr2':colors[3],\n",
    " 'Cr2cm':colors[8],'Cr2t-d':colors[2]}) "
   ]
  },
  {
   "cell_type": "code",
   "execution_count": null,
   "metadata": {},
   "outputs": [],
   "source": [
    "# Early Cretaceous (K1)\n",
    "\n",
    "base = color_dict['Lower Cretaceous']\n",
    "print(base)\n",
    "\n",
    "colors_dark = sns.dark_palette(base,n_colors=5).as_hex()\n",
    "colors_light = sns.light_palette(base,n_colors=5).as_hex()\n",
    "colors_light.reverse()\n",
    "\n",
    "colors= colors_dark + colors_light[1:]\n",
    "print(colors)\n",
    "sns.palplot(colors)\n",
    "\n",
    "unit_dict.update({'K1b':colors[2],'K1brdashh':colors[6]})"
   ]
  },
  {
   "cell_type": "code",
   "execution_count": null,
   "metadata": {},
   "outputs": [],
   "source": [
    "# Paleogene\n",
    "base = color_dict['Paleogene']\n",
    "print(base)\n",
    "\n",
    "colors_dark = sns.dark_palette(base,n_colors=5).as_hex()\n",
    "colors_light = sns.light_palette(base,n_colors=5).as_hex()\n",
    "colors_light.reverse()\n",
    "\n",
    "colors= colors_dark + colors_light[1:]\n",
    "print(colors)\n",
    "sns.palplot(colors)\n",
    "\n",
    "unit_dict.update({'Pg1+Pg21+2':colors[4],'Pg22(1)':colors[5],'Pg22(2+3)':colors[3],'Pg23':colors[6],\n",
    "                  'Pg3+N11':colors[2],'Enk':colors[7]})  "
   ]
  },
  {
   "cell_type": "code",
   "execution_count": null,
   "metadata": {},
   "outputs": [],
   "source": [
    "# Neogene\n",
    "base = color_dict['Neogene']\n",
    "print(base)\n",
    "\n",
    "colors_dark = sns.dark_palette(base,n_colors=5).as_hex()\n",
    "colors_light = sns.light_palette(base,n_colors=5).as_hex()\n",
    "colors_light.reverse()\n",
    "\n",
    "colors= colors_dark + colors_light[1:]\n",
    "print(colors)\n",
    "sns.palplot(colors)\n",
    "\n",
    "unit_dict.update({'N12':colors[4],'N1m':colors[5],'N1s':colors[3],'N1s1+2':colors[6],'N2gr':colors[2],\n",
    "                  'N2pn':colors[7]})  "
   ]
  },
  {
   "cell_type": "code",
   "execution_count": null,
   "metadata": {},
   "outputs": [],
   "source": [
    "# Quaternary\n",
    "base = color_dict['Quaternary']\n",
    "print(base)\n",
    "colors = sns.dark_palette(base,n_colors=2).as_hex()\n",
    "sns.palplot(colors)\n",
    "\n",
    "unit_dict.update({'Q':colors[1]}) \n"
   ]
  },
  {
   "cell_type": "code",
   "execution_count": null,
   "metadata": {},
   "outputs": [],
   "source": [
    "intrus_dict = {'beta':'red','gamma':'red','mu':'red','delta':'red','phi':'red'}\n",
    "\n",
    "for unit in unique_units:\n",
    "    for k in intrus_dict:\n",
    "        if k in unit:\n",
    "            unit_dict[unit] = intrus_dict[k]"
   ]
  },
  {
   "cell_type": "code",
   "execution_count": null,
   "metadata": {},
   "outputs": [],
   "source": [
    "print(unit_dict)"
   ]
  },
  {
   "cell_type": "code",
   "execution_count": null,
   "metadata": {},
   "outputs": [],
   "source": [
    "shape_dir = 'shapefiles/'\n",
    "files = [os.path.join(shape_dir,file) for file in os.listdir(shape_dir) if file.endswith('.shp')]\n",
    "\n",
    "for file in files:\n",
    "    map = gpd.read_file(file)\n",
    "    map['unit_color'] = map['unit'].map(unit_dict)\n",
    "    print(map.columns)\n",
    "    map.to_file(file)"
   ]
  }
 ],
 "metadata": {
  "kernelspec": {
   "display_name": "dataset-caucasus-gchem-2023",
   "language": "python",
   "name": "python3"
  },
  "language_info": {
   "codemirror_mode": {
    "name": "ipython",
    "version": 3
   },
   "file_extension": ".py",
   "mimetype": "text/x-python",
   "name": "python",
   "nbconvert_exporter": "python",
   "pygments_lexer": "ipython3",
   "version": "3.11.11"
  }
 },
 "nbformat": 4,
 "nbformat_minor": 2
}
