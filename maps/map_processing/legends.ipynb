{
 "cells": [
  {
   "cell_type": "code",
   "execution_count": 51,
   "metadata": {},
   "outputs": [],
   "source": [
    "import os\n",
    "\n",
    "import matplotlib.patches as patches\n",
    "from matplotlib.colors import to_rgba\n",
    "import matplotlib.pyplot as plt\n",
    "import pandas as pd"
   ]
  },
  {
   "cell_type": "code",
   "execution_count": 52,
   "metadata": {},
   "outputs": [
    {
     "name": "stdout",
     "output_type": "stream",
     "text": [
      "Index(['Q', 'K1b', 'K1brdashh', 'J3km+t', 'J2hd4', 'J2hd3', 'J2hd2', 'J2hd1',\n",
      "       'J2s2', 'J13s1', 'J12ms2', 'Tms1', 'Tmr2', 'Tmr1', 'C12-Tch', 'C11kz'],\n",
      "      dtype='object', name='Unit')\n",
      "Index(['Q', 'N1s1+2', 'N12', 'Pg3+N11', 'Pg23', 'Pg1+Pg21+2', 'Cr2', 'Cr2t-d',\n",
      "       'Cr2cm', 'Cr1', 'Cr1ap+al', 'Cr1b', 'Cr1v+h', 'J3km', 'cJ2bt', 'J2bt',\n",
      "       'J2bj'],\n",
      "      dtype='object', name='Unit')\n",
      "Index(['O-S1dl', 'S2-D1+2lh', 'S2-D1bl', 'D2+3kr', 'C11kz', 'C12-Tch',\n",
      "       'C3kupsilon1', 'Tmr1', 'Tmr2', 'Tms1', 'J12mr2', 'J12ms11', 'J12ms12',\n",
      "       'J12ms2', 'J13', 'J13s1', 'J2bj', 'J2bt', 'cJ2bt', 'J2ch3', 'J2hd1',\n",
      "       'J2hd2', 'J2hd3', 'J2hd4', 'J2s2', 'J2tl1', 'J2tl2', 'J3cupsilon',\n",
      "       'J3km', 'J3km+t', 'Cr1', 'Cr1ap+al', 'Cr1b', 'Cr1v+h', 'Cr2', 'Cr2cm',\n",
      "       'Cr2t-d', 'K1b', 'K1brdashh', 'Pg1+Pg21+2', 'Pg22(1)', 'Pg22(2+3)',\n",
      "       'Pg23', 'Pg3+N11', 'Enk', 'N12', 'N1m', 'N1s', 'N1s1+2', 'N2gr', 'N2pn',\n",
      "       'Q', 'betaCr2t', 'betaJ2', 'betaTr', 'betamuJ2', 'deltaJ2',\n",
      "       'gamma1C12-C2', 'gamma2C12-C2', 'gammaD3-C11', 'gammaJ2',\n",
      "       'gammadeltaJ2', 'muthetaTr', 'phiupsilonJ2', 'qdeltaJ2', 'qdeltamuJ2',\n",
      "       'upsilionbetaJ2', 'Ice'],\n",
      "      dtype='object', name='Unit')\n"
     ]
    }
   ],
   "source": [
    "entries_50k = pd.read_csv('50K_legends.csv',index_col='Unit')\n",
    "entries_200k = pd.read_csv('200K_legends.csv',index_col='Unit')\n",
    "color_info = pd.read_csv('color_dict.csv',index_col='Unit')\n",
    "\n",
    "print(entries_50k.index)\n",
    "print(entries_200k.index)\n",
    "print(color_info.index)\n"
   ]
  },
  {
   "cell_type": "code",
   "execution_count": null,
   "metadata": {},
   "outputs": [
    {
     "data": {
      "text/plain": [
       "(0.0, 1.0, 0.0, 1.0)"
      ]
     },
     "execution_count": 57,
     "metadata": {},
     "output_type": "execute_result"
    },
    {
     "data": {
      "image/png": "[encoded data removed]",
      "text/plain": [
       "<Figure size 900x900 with 1 Axes>"
      ]
     },
     "metadata": {},
     "output_type": "display_data"
    }
   ],
   "source": [
    "# Plot\n",
    "plot_height = 3\n",
    "\n",
    "fig,ax = plt.subplots(1,dpi=300,figsize=(3,plot_height))\n",
    "axes_height = 1\n",
    "spacing = 0.02\n",
    "box_height = 0.035\n",
    "\n",
    "\n",
    "for k,unit in enumerate(entries_50k.index):\n",
    "    position = (0,axes_height - (k+1)*(box_height+spacing))\n",
    "    transparent_color = to_rgba(color_info.loc[unit,'Color'], alpha=0.5)\n",
    "\n",
    "    rect = patches.Rectangle(position, box_height*2, box_height, edgecolor='black', \n",
    "                             facecolor=transparent_color,linewidth=0.5)\n",
    "\n",
    "    ax.add_patch(rect)\n",
    "\n",
    "for k,unit in enumerate(entries_200k.index):\n",
    "    position = (0.5,axes_height - (k+1)*(box_height+spacing))\n",
    "    transparent_color = to_rgba(color_info.loc[unit,'Color'], alpha=0.5)\n",
    "\n",
    "    rect = patches.Rectangle(position, box_height*2, box_height, edgecolor='black', \n",
    "                             facecolor=transparent_color,linewidth=0.5)\n",
    "\n",
    "    ax.add_patch(rect)\n",
    "\n",
    "ax.axis('off')"
   ]
  }
 ],
 "metadata": {
  "kernelspec": {
   "display_name": "dataset-caucasus-gchem-2023",
   "language": "python",
   "name": "python3"
  },
  "language_info": {
   "codemirror_mode": {
    "name": "ipython",
    "version": 3
   },
   "file_extension": ".py",
   "mimetype": "text/x-python",
   "name": "python",
   "nbconvert_exporter": "python",
   "pygments_lexer": "ipython3",
   "version": "3.11.11"
  }
 },
 "nbformat": 4,
 "nbformat_minor": 2
}
