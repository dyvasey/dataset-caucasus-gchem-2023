{
 "cells": [
  {
   "cell_type": "code",
   "execution_count": null,
   "metadata": {},
   "outputs": [],
   "source": [
    "import os\n",
    "\n",
    "import geopandas as gpd\n",
    "import pandas as pd\n",
    "import seaborn as sns"
   ]
  },
  {
   "cell_type": "code",
   "execution_count": null,
   "metadata": {},
   "outputs": [],
   "source": [
    "color_sheet = pd.read_excel('CGMW_ICS_colour_codes.xlsx',skiprows=9)\n",
    "header = pd.read_excel('CGMW_ICS_colour_codes.xlsx',header=5).columns\n",
    "color_sheet.columns = header\n",
    "\n",
    "color_dict = dict(zip(color_sheet['Long List (formatted)'],color_sheet['HTML RGB HASH']))\n",
    "color_dict[None] = '#FFFFFF'\n",
    "print(color_dict)"
   ]
  },
  {
   "cell_type": "code",
   "execution_count": null,
   "metadata": {},
   "outputs": [],
   "source": [
    "# Read file from local directory\n",
    "local_map_dir = '/mnt/box/internal_files/manuscripts/Vasey_GCGCHM/qgis_project'\n",
    "filename = os.path.join(local_map_dir,'polygons_colored.gpkg')\n",
    "map_names = ['K-38-38-A','K-38-25-V','K3813','K-38-25-G','K-38-38-G','K-38-38-V']\n",
    "\n",
    "maps = [gpd.read_file(filename,layer=layer) for layer in map_names]\n"
   ]
  },
  {
   "cell_type": "code",
   "execution_count": null,
   "metadata": {},
   "outputs": [],
   "source": [
    "# Get unique units and setup empty dictionary\n",
    "all_units = pd.Series()\n",
    "for map in maps:\n",
    "    map_units = pd.Series(map.unit.unique())\n",
    "    all_units = pd.concat([all_units,map_units])\n",
    "\n",
    "unique_units = all_units.unique()\n",
    "unique_units.sort()\n",
    "\n",
    "print(unique_units)\n",
    "\n",
    "unit_dict={}"
   ]
  },
  {
   "cell_type": "code",
   "execution_count": null,
   "metadata": {},
   "outputs": [],
   "source": [
    "# Ordovician\n",
    "base = color_dict['Ordovician']\n",
    "print(base)\n",
    "\n",
    "colors = sns.dark_palette(base,n_colors=5).as_hex()\n",
    "print(colors)\n",
    "sns.palplot(colors)\n",
    "\n",
    "unit_dict.update({'O-S1dl':colors[2]})"
   ]
  },
  {
   "cell_type": "code",
   "execution_count": null,
   "metadata": {},
   "outputs": [],
   "source": [
    "# Silurian\n",
    "base = color_dict['Silurian']\n",
    "print(base)\n",
    "\n",
    "colors = sns.dark_palette(base,n_colors=5).as_hex()\n",
    "print(colors)\n",
    "sns.palplot(colors)\n",
    "\n",
    "unit_dict.update({'S2-D1+2lh':colors[1],'S2-D1bl':colors[2]})\n"
   ]
  },
  {
   "cell_type": "code",
   "execution_count": null,
   "metadata": {},
   "outputs": [],
   "source": [
    "# Devonian\n",
    "base = color_dict['Devonian']\n",
    "print(base)\n",
    "\n",
    "colors = sns.dark_palette(base,n_colors=5).as_hex()\n",
    "print(colors)\n",
    "sns.palplot(colors)\n",
    "\n",
    "unit_dict.update({'D2+3kr':colors[2]})"
   ]
  },
  {
   "cell_type": "code",
   "execution_count": null,
   "metadata": {},
   "outputs": [],
   "source": [
    "# Carboniferous\n",
    "base = color_dict['Mississippian']\n",
    "print(base)\n",
    "\n",
    "colors_dark = sns.dark_palette(base,n_colors=3).as_hex()\n",
    "colors_light = sns.light_palette(base,n_colors=3).as_hex()\n",
    "colors_light.reverse()\n",
    "\n",
    "colors= colors_dark + colors_light[1:]\n",
    "print(colors)\n",
    "sns.palplot(colors)\n",
    "\n",
    "unit_dict.update({'C11kz':colors[2],'C12-Tch':colors[3],'C3kupsilon1':colors[1]})"
   ]
  },
  {
   "cell_type": "code",
   "execution_count": null,
   "metadata": {},
   "outputs": [],
   "source": [
    "# Triasic\n",
    "base = color_dict['Triassic']\n",
    "print(base)\n",
    "\n",
    "colors = sns.dark_palette(base,n_colors=5).as_hex()\n",
    "print(colors)\n",
    "sns.palplot(colors)\n",
    "\n",
    "unit_dict.update({'Tmr1':colors[0],'Tmr2':colors[2],'Tms1':colors[4]}) "
   ]
  },
  {
   "cell_type": "code",
   "execution_count": null,
   "metadata": {},
   "outputs": [],
   "source": [
    "# Early Jurassic\n",
    "base = color_dict['Lower Jurassic']\n",
    "print(base)\n",
    "\n",
    "colors_dark = sns.dark_palette(base,n_colors=5).as_hex()\n",
    "colors_light = sns.light_palette(base,n_colors=5).as_hex()\n",
    "colors_light.reverse()\n",
    "\n",
    "colors= colors_dark + colors_light[1:]\n",
    "print(colors)\n",
    "sns.palplot(colors)\n",
    "\n",
    "unit_dict.update({'J12mr2':colors[4],'J12ms11':colors[5],'J12ms12':colors[3],\n",
    " 'J12ms2':colors[6],'J13':colors[7],'J13s1':colors[2]}) \n"
   ]
  },
  {
   "cell_type": "code",
   "execution_count": null,
   "metadata": {},
   "outputs": [],
   "source": [
    "# Middle Jurassic (200K)\n",
    "base = color_dict['Middle Jurassic']\n",
    "print(base)\n",
    "\n",
    "colors_dark = sns.dark_palette(base,n_colors=3).as_hex()\n",
    "colors_light = sns.light_palette(base,n_colors=3).as_hex()\n",
    "colors_light.reverse()\n",
    "\n",
    "colors= colors_dark + colors_light[1:]\n",
    "print(colors)\n",
    "sns.palplot(colors)\n",
    "\n",
    "unit_dict.update({'J2bj':colors[2],'J2bt':colors[3],'cJ2bt':colors[1]})\n"
   ]
  },
  {
   "cell_type": "code",
   "execution_count": null,
   "metadata": {},
   "outputs": [],
   "source": [
    "# Bajocian\n",
    "base = color_dict['Bajocian']\n",
    "print(base)\n",
    "\n",
    "colors_dark = sns.dark_palette(base,n_colors=5).as_hex()\n",
    "colors_light = sns.light_palette(base,n_colors=5).as_hex()\n",
    "colors_light.reverse()\n",
    "\n",
    "colors= colors_dark + colors_light[1:]\n",
    "print(colors)\n",
    "sns.palplot(colors)\n",
    "\n",
    "\n",
    "unit_dict.update({'J2ch3':colors[4],'J2hd1':colors[5],'J2hd2':colors[3],\n",
    " 'J2hd3':colors[6],'J2hd4':colors[2],'J2s2':colors[7],'J2tl1':colors[1],'J2tl2':colors[8]})"
   ]
  },
  {
   "cell_type": "code",
   "execution_count": null,
   "metadata": {},
   "outputs": [],
   "source": [
    "# Late Jurassic\n",
    "base = color_dict['Upper Jurassic']\n",
    "print(base)\n",
    "\n",
    "colors = sns.dark_palette(base,n_colors=4).as_hex()\n",
    "print(colors)\n",
    "sns.palplot(colors)\n",
    "\n",
    "unit_dict.update({'J3cupsilon':colors[1],'J3km':colors[2],'J3km+t':colors[3]})  "
   ]
  },
  {
   "cell_type": "code",
   "execution_count": null,
   "metadata": {},
   "outputs": [],
   "source": [
    "# Cretaceous (Cr)\n",
    "base = color_dict['Cretaceous']\n",
    "print(base)\n",
    "\n",
    "colors_dark = sns.dark_palette(base,n_colors=6).as_hex()\n",
    "colors_light = sns.light_palette(base,n_colors=6).as_hex()\n",
    "colors_light.reverse()\n",
    "\n",
    "colors= colors_dark + colors_light[1:]\n",
    "print(colors)\n",
    "sns.palplot(colors)\n",
    "\n",
    "unit_dict.update({'Cr1':colors[5],'Cr1ap+al':colors[6],'Cr1b':colors[4],'Cr1v+h':colors[7],'Cr2':colors[3],\n",
    " 'Cr2cm':colors[8],'Cr2t-d':colors[2]}) "
   ]
  },
  {
   "cell_type": "code",
   "execution_count": null,
   "metadata": {},
   "outputs": [],
   "source": [
    "# Early Cretaceous (K1)\n",
    "\n",
    "base = color_dict['Lower Cretaceous']\n",
    "print(base)\n",
    "\n",
    "colors_dark = sns.dark_palette(base,n_colors=5).as_hex()\n",
    "colors_light = sns.light_palette(base,n_colors=5).as_hex()\n",
    "colors_light.reverse()\n",
    "\n",
    "colors= colors_dark + colors_light[1:]\n",
    "print(colors)\n",
    "sns.palplot(colors)\n",
    "\n",
    "unit_dict.update({'K1b':colors[2],'K1brdashh':colors[6]})"
   ]
  },
  {
   "cell_type": "code",
   "execution_count": null,
   "metadata": {},
   "outputs": [],
   "source": [
    "# Paleogene\n",
    "base = color_dict['Paleogene']\n",
    "print(base)\n",
    "\n",
    "colors_dark = sns.dark_palette(base,n_colors=5).as_hex()\n",
    "colors_light = sns.light_palette(base,n_colors=5).as_hex()\n",
    "colors_light.reverse()\n",
    "\n",
    "colors= colors_dark + colors_light[1:]\n",
    "print(colors)\n",
    "sns.palplot(colors)\n",
    "\n",
    "unit_dict.update({'Pg1+Pg21+2':colors[4],'Pg22(1)':colors[5],'Pg22(2+3)':colors[3],'Pg23':colors[6],\n",
    "                  'Pg3+N11':colors[2],'Enk':colors[7]})  "
   ]
  },
  {
   "cell_type": "code",
   "execution_count": null,
   "metadata": {},
   "outputs": [],
   "source": [
    "# Neogene\n",
    "base = color_dict['Neogene']\n",
    "print(base)\n",
    "\n",
    "colors_dark = sns.dark_palette(base,n_colors=5).as_hex()\n",
    "colors_light = sns.light_palette(base,n_colors=5).as_hex()\n",
    "colors_light.reverse()\n",
    "\n",
    "colors= colors_dark + colors_light[1:]\n",
    "print(colors)\n",
    "sns.palplot(colors)\n",
    "\n",
    "unit_dict.update({'N12':colors[4],'N1m':colors[5],'N1s':colors[3],'N1s1+2':colors[6],'N2gr':colors[2],\n",
    "                  'N2pn':colors[7]})  "
   ]
  },
  {
   "cell_type": "code",
   "execution_count": null,
   "metadata": {},
   "outputs": [],
   "source": [
    "# Quaternary\n",
    "base = color_dict['Quaternary']\n",
    "print(base)\n",
    "colors = sns.dark_palette(base,n_colors=2).as_hex()\n",
    "sns.palplot(colors)\n",
    "\n",
    "unit_dict.update({'Q':colors[1]}) \n"
   ]
  },
  {
   "cell_type": "code",
   "execution_count": null,
   "metadata": {},
   "outputs": [],
   "source": [
    "intrus_dict = {'beta':'red','gamma':'red','mu':'red','delta':'red','phi':'red'}\n",
    "\n",
    "for unit in unique_units:\n",
    "    for k in intrus_dict:\n",
    "        if k in unit:\n",
    "            unit_dict[unit] = intrus_dict[k]"
   ]
  },
  {
   "cell_type": "code",
   "execution_count": null,
   "metadata": {},
   "outputs": [],
   "source": [
    "unit_dict.update({'Ice':'#FFFFFF'})\n",
    "print(unit_dict)"
   ]
  },
  {
   "cell_type": "code",
   "execution_count": null,
   "metadata": {},
   "outputs": [],
   "source": [
    "for k,map in enumerate(maps):\n",
    "    map['unit_color'] = map['unit'].map(unit_dict)\n",
    "    map.to_file(filename,layer=map_names[k],overwrite=True)"
   ]
  }
 ],
 "metadata": {
  "kernelspec": {
   "display_name": "dataset-caucasus-gchem-2023",
   "language": "python",
   "name": "python3"
  },
  "language_info": {
   "codemirror_mode": {
    "name": "ipython",
    "version": 3
   },
   "file_extension": ".py",
   "mimetype": "text/x-python",
   "name": "python",
   "nbconvert_exporter": "python",
   "pygments_lexer": "ipython3",
   "version": "3.11.11"
  }
 },
 "nbformat": 4,
 "nbformat_minor": 2
}
