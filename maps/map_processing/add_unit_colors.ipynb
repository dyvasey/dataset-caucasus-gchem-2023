{
 "cells": [
  {
   "cell_type": "code",
   "execution_count": 2,
   "metadata": {},
   "outputs": [],
   "source": [
    "import os\n",
    "\n",
    "import geopandas as gpd\n",
    "import pandas as pd\n",
    "import seaborn as sns"
   ]
  },
  {
   "cell_type": "code",
   "execution_count": 3,
   "metadata": {},
   "outputs": [
    {
     "name": "stdout",
     "output_type": "stream",
     "text": [
      "{'Upper/Late Holocene': '#FDEDEC', 'Northgrippian': '#FDECE4', 'Middle Holocene': '#FDECE4', 'Greenlandian': '#FEECDB', 'Lower/Early Holocene': '#FEECDB', 'Holocene': '#FEEBD2', 'Upper Pleistocene': '#FFF2D3', 'Upper/Late Pleistocene': '#FFF2D3', 'Chibanian': '#FFF2C7', 'Middle Pleistocene': '#FFF2C7', 'Calabrian': '#FFF2BA', 'Gelasian': '#FFEDB3', 'Lower/Early Pleistocene': '#FFF0B9', 'Pleistocene': '#FFEFAF', 'Quaternary': '#F9F97F', 'Piacenzian': '#FFFFBF', 'Upper/Late Pliocene': '#FFF2CD', 'Zanclean': '#FFFFB3', 'Lower/Early Pliocene': '#FFF2C3', 'Pliocene': '#FFFF99', 'Messinian': '#FFFF73', 'Tortonian': '#FFFF66', 'Upper/Late Miocene': '#FFEC8C', 'Serravallian': '#FFFF59', 'Langhian': '#FFFF4D', 'Middle Miocene': '#FFEC73', 'Burdigalian': '#FFFF41', 'Aquitanian': '#FFFF33', 'Lower/Early Miocene': '#FFEC55', 'Miocene': '#FFFF00', 'Neogene': '#FFE619', 'Chattian': '#FEE6AA', 'Rupelian': '#FED99A', 'Oligocene': '#FEC07A', 'Priabonian': '#FDCDA1', 'Bartonian': '#FDC091', 'Lutetian': '#FDB482', 'Ypresian': '#FCA773', 'Eocene': '#FDB46C', 'Thanetian': '#FDBF6F', 'Selandian': '#FEBF65', 'Danian': '#FDB462', 'Paleocene': '#FDA75F', 'Paleogene': '#FD9A52', 'Cenozoic': '#F2F91D', 'Maastrichtian': '#F2FA8C', 'Campanian': '#E6F47F', 'Santonian': '#D9EF74', 'Coniacian': '#CCE968', 'Turonian': '#BFE35D', 'Cenomanian': '#B3DE53', 'Upper Cretaceous': '#A6D84A', 'Albian': '#CCEA97', 'Aptian': '#BFE48A', 'Barremian': '#B3DF7F', 'Hauterivian': '#A6D975', 'Valanginian': '#99D36A', 'Berriasian': '#8CCD60', 'Lower Cretaceous': '#8CCD57', 'Cretaceous': '#7FC64E', 'Tithonian': '#D9F1F7', 'Kimmeridgian': '#CCECF4', 'Oxfordian': '#BFE7F1', 'Upper Jurassic': '#B3E3EE', 'Callovian': '#BFE7E5', 'Bathonian': '#B3E2E3', 'Bajocian': '#A6DDE0', 'Aalenian': '#9AD9DD', 'Middle Jurassic': '#80CFD8', 'Toarcian': '#99CEE3', 'Pliensbachian': '#80C5DD', 'Sinemurian': '#67BCD8', 'Hettangian': '#4EB3D3', 'Lower Jurassic': '#42AED0', 'Jurassic': '#34B2C9', 'Rhaetian': '#E3B9DB', 'Norian': '#D6AAD3', 'Carnian': '#C99BCB', 'Upper Triassic': '#BD8CC3', 'Ladinian': '#C983BF', 'Anisian': '#BC75B7', 'Middle Triassic': '#B168B1', 'Olenekian': '#B051A5', 'Induan': '#A4469F', 'Lower Triassic': '#983999', 'Triassic': '#812B92', 'Mesozoic': '#67C5CA', 'Changhsingian': '#FCC0B2', 'Wuchiapingian': '#FCB4A2', 'Lopingian': '#FBA794', 'Capitanian': '#FB9A85', 'Wordian': '#FB8D76', 'Roadian': '#FB8069', 'Guadalupian': '#FB745C', 'Kungurian': '#E38776', 'Artinskian': '#E37B68', 'Sakmarian': '#E36F5C', 'Asselian': '#E36350', 'Cisuralian': '#EF5845', 'Permian': '#F04028', 'Gzhelian': '#CCD4C7', 'Kasimovian': '#BFD0C5', 'Upper Pennsylvanian': '#BFD0BA', 'Moscovian': '#B3CBB9', 'Middle Pennsylvanian': '#A6C7B7', 'Bashkirian': '#99C2B5', 'Lower Pennsylvanian': '#8CBEB4', 'Pennsylvanian': '#7EBCC6', 'Serpukhovian': '#BFC26B', 'Upper Mississippian': '#B3BE6C', 'Visean': '#A6B96C', 'Middle Mississippian': '#99B46C', 'Tournaisian': '#8CB06C', 'Lower Mississippian': '#80AB6C', 'Mississippian': '#678F66', 'Carboniferous': '#67A599', 'Famennian': '#F2EDB3', 'Frasnian': '#F2EDAD', 'Upper Devonian': '#F1E19D', 'Givetian': '#F1E185', 'Eifelian': '#F1D576', 'Middle Devonian': '#F1C868', 'Emsian': '#E5D075', 'Pragian': '#E5C468', 'Lochkovian': '#E5B75A', 'Lower Devonian': '#E5AC4D', 'Devonian': '#CB8C37', 'Pridoli': '#E6F5E1', 'Ludfordian': '#D9F0DF', 'Gorstian': '#CCECDD', 'Ludlow': '#BFE6CF', 'Homerian': '#CCEBD1', 'Sheinwoodian': '#BFE6C3', 'Wenlock': '#B3E1C2', 'Telychian': '#BFE6CF', 'Aeronian': '#B3E1C2', 'Rhuddanian': '#A6DCB5', 'Llandovery': '#99D7B3', 'Silurian': '#B3E1B6', 'Hirnantian': '#A6DBAB', 'Katian': '#99D69F', 'Sandbian': '#8CD094', 'Upper Ordovician': '#7FCA93', 'Darriwilian': '#74C69C', 'Dapingian': '#66C092', 'Middle Ordovician': '#4DB47E', 'Floian': '#41B087', 'Tremadocian': '#33A97E', 'Lower Ordovician': '#1A9D6F', 'Ordovician': '#009270', 'Stage 10': '#E6F5C9', 'Jiangshanian': '#D9F0BB', 'Paibian': '#CCEBAE', 'Furongian': '#B3E095', 'Guzhangian': '#CCDFAA', 'Drumian': '#BFD99D', 'Wuliuan': '#B3D492', 'Miaolingian': '#A6CF86', 'Stage 4': '#B3CA8E', 'Stage 3': '#A6C583', 'Series 2': '#99C078', 'Stage 2': '#A6BA80', 'Fortunian': '#99B575', 'Terreneuvian': '#8CB06C', 'Cambrian': '#7FA056', 'Paleozoic': '#99C08D', 'Phanerozoic': '#9AD9DD', 'Ediacaran': '#FED96A', 'Cryogenian': '#FECC5C', 'Tonian': '#FEBF4E', 'Neoproterozoic': '#FEB342', 'Stenian': '#FED99A', 'Ectasian': '#FDCC8A', 'Calymmian': '#FDC07A', 'Mesoproterozoic': '#FDB462', 'Statherian': '#F875A7', 'Orosirian': '#F76898', 'Rhyacian': '#F75B89', 'Siderian': '#F74F7C', 'Paleoproterozoic': '#F74370', 'Proterozoic': '#F73563', 'unnamed1': '#FAA7C8', 'Neoarchean': '#F99BC1', 'unnamed2': '#F881B5', 'Mesoarchean': '#F768A9', 'unnamed3': '#F668B2', 'Paleoarchean': '#F4449F', 'unnamed4': '#E61D8C', 'Eoarchean': '#DA037F', 'Archean': '#F0047F', 'Hadean': '#AE027E', 'Precambrian': '#F74370', None: '#FFFFFF'}\n"
     ]
    }
   ],
   "source": [
    "color_sheet = pd.read_excel('CGMW_ICS_colour_codes.xlsx',skiprows=9)\n",
    "header = pd.read_excel('CGMW_ICS_colour_codes.xlsx',header=5).columns\n",
    "color_sheet.columns = header\n",
    "\n",
    "color_dict = dict(zip(color_sheet['Long List (formatted)'],color_sheet['HTML RGB HASH']))\n",
    "color_dict[None] = '#FFFFFF'\n",
    "print(color_dict)"
   ]
  },
  {
   "cell_type": "code",
   "execution_count": 4,
   "metadata": {},
   "outputs": [],
   "source": [
    "# Read file from local directory\n",
    "local_map_dir = '/mnt/box/internal_files/manuscripts/Vasey_GCGCHM/qgis_project'\n",
    "filename = os.path.join(local_map_dir,'polygons_colored.gpkg')\n",
    "map_names = ['K-38-37-A','K-38-25-V','K3813','K-38-25-G','K-38-38-G','K-38-38-V']\n",
    "\n",
    "maps = [gpd.read_file(filename,layer=layer) for layer in map_names]\n"
   ]
  },
  {
   "cell_type": "code",
   "execution_count": 5,
   "metadata": {},
   "outputs": [
    {
     "name": "stdout",
     "output_type": "stream",
     "text": [
      "['C11kz' 'C12-Tch' 'C3kupsilon1' 'Cr1' 'Cr1ap+al' 'Cr1b' 'Cr1v+h' 'Cr2'\n",
      " 'Cr2cm' 'Cr2t-d' 'D2+3kr' 'Enk' 'Ice' 'J12mr2' 'J12ms11' 'J12ms12'\n",
      " 'J12ms2' 'J13' 'J13s1' 'J2bj' 'J2bt' 'J2hd1' 'J2hd2' 'J2hd3' 'J2hd4'\n",
      " 'J2s2' 'J2tl1' 'J2tl2' 'J3cupsilon' 'J3km' 'J3km+t' 'K1b' 'K1brdashh'\n",
      " 'N12' 'N1m' 'N1s' 'N1s1+2' 'N2gr' 'N2pn' 'O-S1dl' 'Pg1+Pg21+2' 'Pg22(1)'\n",
      " 'Pg22(2+3)' 'Pg23' 'Pg3+N11' 'Q' 'S2-D1+2lh' 'S2-D1bl' 'Tmr1' 'Tmr2'\n",
      " 'Tms1' 'betaCr2t' 'betaJ2' 'betaTr' 'betamuJ2' 'cJ2bt' 'deltaJ2'\n",
      " 'gamma1C12-C2' 'gamma2C12-C2' 'gammaD3-C11' 'gammaJ2' 'gammadeltaJ2'\n",
      " 'muthetaTr' 'pC12-C2' 'phiupsilonJ2' 'qdeltaJ2' 'qdeltamuJ2'\n",
      " 'upsilionbetaJ2']\n"
     ]
    },
    {
     "name": "stderr",
     "output_type": "stream",
     "text": [
      "/tmp/ipykernel_73165/2497668703.py:2: FutureWarning: The default dtype for empty Series will be 'object' instead of 'float64' in a future version. Specify a dtype explicitly to silence this warning.\n",
      "  all_units = pd.Series()\n"
     ]
    }
   ],
   "source": [
    "# Get unique units and setup empty dictionary\n",
    "all_units = pd.Series()\n",
    "for map in maps:\n",
    "    map_units = pd.Series(map.unit.unique())\n",
    "    all_units = pd.concat([all_units,map_units])\n",
    "\n",
    "unique_units = all_units.unique()\n",
    "unique_units.sort()\n",
    "\n",
    "print(unique_units)\n",
    "\n",
    "unit_dict={}"
   ]
  },
  {
   "cell_type": "code",
   "execution_count": 6,
   "metadata": {},
   "outputs": [
    {
     "name": "stdout",
     "output_type": "stream",
     "text": [
      "#009270\n",
      "['#222725', '#1a4238', '#115d4b', '#08785d', '#009270']\n"
     ]
    },
    {
     "data": {
      "image/png": "[encoded data removed]",
      "text/plain": [
       "<Figure size 500x100 with 1 Axes>"
      ]
     },
     "metadata": {},
     "output_type": "display_data"
    }
   ],
   "source": [
    "# Ordovician\n",
    "base = color_dict['Ordovician']\n",
    "print(base)\n",
    "\n",
    "colors = sns.dark_palette(base,n_colors=5).as_hex()\n",
    "print(colors)\n",
    "sns.palplot(colors)\n",
    "\n",
    "unit_dict.update({'O-S1dl':colors[2]})"
   ]
  },
  {
   "cell_type": "code",
   "execution_count": 7,
   "metadata": {},
   "outputs": [
    {
     "name": "stdout",
     "output_type": "stream",
     "text": [
      "#B3E1B6\n",
      "['#252625', '#485549', '#6c846e', '#90b392', '#b3e1b6']\n"
     ]
    },
    {
     "data": {
      "image/png": "[encoded data removed]",
      "text/plain": [
       "<Figure size 500x100 with 1 Axes>"
      ]
     },
     "metadata": {},
     "output_type": "display_data"
    }
   ],
   "source": [
    "# Silurian\n",
    "base = color_dict['Silurian']\n",
    "print(base)\n",
    "\n",
    "colors = sns.dark_palette(base,n_colors=5).as_hex()\n",
    "print(colors)\n",
    "sns.palplot(colors)\n",
    "\n",
    "unit_dict.update({'S2-D1+2lh':colors[1],'S2-D1bl':colors[2]})\n"
   ]
  },
  {
   "cell_type": "code",
   "execution_count": 8,
   "metadata": {},
   "outputs": [
    {
     "name": "stdout",
     "output_type": "stream",
     "text": [
      "#CB8C37\n",
      "['#292522', '#513f28', '#7a592d', '#a37332', '#cb8c37']\n"
     ]
    },
    {
     "data": {
      "image/png": "[encoded data removed]",
      "text/plain": [
       "<Figure size 500x100 with 1 Axes>"
      ]
     },
     "metadata": {},
     "output_type": "display_data"
    }
   ],
   "source": [
    "# Devonian\n",
    "base = color_dict['Devonian']\n",
    "print(base)\n",
    "\n",
    "colors = sns.dark_palette(base,n_colors=5).as_hex()\n",
    "print(colors)\n",
    "sns.palplot(colors)\n",
    "\n",
    "unit_dict.update({'D2+3kr':colors[2]})"
   ]
  },
  {
   "cell_type": "code",
   "execution_count": 9,
   "metadata": {},
   "outputs": [
    {
     "name": "stdout",
     "output_type": "stream",
     "text": [
      "#678F66\n",
      "['#242624', '#465b45', '#678f66', '#aac0aa', '#eef2ee']\n"
     ]
    },
    {
     "data": {
      "image/png": "[encoded data removed]",
      "text/plain": [
       "<Figure size 500x100 with 1 Axes>"
      ]
     },
     "metadata": {},
     "output_type": "display_data"
    }
   ],
   "source": [
    "# Carboniferous\n",
    "base = color_dict['Mississippian']\n",
    "print(base)\n",
    "\n",
    "colors_dark = sns.dark_palette(base,n_colors=3).as_hex()\n",
    "colors_light = sns.light_palette(base,n_colors=3).as_hex()\n",
    "colors_light.reverse()\n",
    "\n",
    "colors= colors_dark + colors_light[1:]\n",
    "print(colors)\n",
    "sns.palplot(colors)\n",
    "\n",
    "unit_dict.update({'C11kz':colors[2],'C12-Tch':colors[3],'C3kupsilon1':colors[1]})"
   ]
  },
  {
   "cell_type": "code",
   "execution_count": 10,
   "metadata": {},
   "outputs": [
    {
     "name": "stdout",
     "output_type": "stream",
     "text": [
      "#812B92\n",
      "['#29242b', '#3f2645', '#55275f', '#6b2979', '#812b92']\n"
     ]
    },
    {
     "data": {
      "image/png": "[encoded data removed]",
      "text/plain": [
       "<Figure size 500x100 with 1 Axes>"
      ]
     },
     "metadata": {},
     "output_type": "display_data"
    }
   ],
   "source": [
    "# Triasic\n",
    "base = color_dict['Triassic']\n",
    "print(base)\n",
    "\n",
    "colors = sns.dark_palette(base,n_colors=5).as_hex()\n",
    "print(colors)\n",
    "sns.palplot(colors)\n",
    "\n",
    "unit_dict.update({'Tmr1':colors[0],'Tmr2':colors[2],'Tms1':colors[4]}) "
   ]
  },
  {
   "cell_type": "code",
   "execution_count": 11,
   "metadata": {},
   "outputs": [
    {
     "name": "stdout",
     "output_type": "stream",
     "text": [
      "#42AED0\n",
      "['#232628', '#2b4852', '#336a7c', '#3a8ca6', '#42aed0', '#6dbfd9', '#98cfe1', '#c3e0ea', '#eef1f2']\n"
     ]
    },
    {
     "data": {
      "image/png": "[encoded data removed]",
      "text/plain": [
       "<Figure size 900x100 with 1 Axes>"
      ]
     },
     "metadata": {},
     "output_type": "display_data"
    }
   ],
   "source": [
    "# Early Jurassic\n",
    "base = color_dict['Lower Jurassic']\n",
    "print(base)\n",
    "\n",
    "colors_dark = sns.dark_palette(base,n_colors=5).as_hex()\n",
    "colors_light = sns.light_palette(base,n_colors=5).as_hex()\n",
    "colors_light.reverse()\n",
    "\n",
    "colors= colors_dark + colors_light[1:]\n",
    "print(colors)\n",
    "sns.palplot(colors)\n",
    "\n",
    "unit_dict.update({'J12mr2':colors[4],'J12ms11':colors[5],'J12ms12':colors[3],\n",
    " 'J12ms2':colors[6],'J13':colors[7],'J13s1':colors[2]}) \n"
   ]
  },
  {
   "cell_type": "code",
   "execution_count": 12,
   "metadata": {},
   "outputs": [
    {
     "name": "stdout",
     "output_type": "stream",
     "text": [
      "#80CFD8\n",
      "['#242626', '#527b80', '#80cfd8', '#b7e0e5', '#eef1f2']\n"
     ]
    },
    {
     "data": {
      "image/png": "[encoded data removed]",
      "text/plain": [
       "<Figure size 500x100 with 1 Axes>"
      ]
     },
     "metadata": {},
     "output_type": "display_data"
    }
   ],
   "source": [
    "# Middle Jurassic (200K)\n",
    "base = color_dict['Middle Jurassic']\n",
    "print(base)\n",
    "\n",
    "colors_dark = sns.dark_palette(base,n_colors=3).as_hex()\n",
    "colors_light = sns.light_palette(base,n_colors=3).as_hex()\n",
    "colors_light.reverse()\n",
    "\n",
    "colors= colors_dark + colors_light[1:]\n",
    "print(colors)\n",
    "sns.palplot(colors)\n",
    "\n",
    "unit_dict.update({'J2bj':colors[2],'J2bt':colors[3],'cJ2bt':colors[1]})\n"
   ]
  },
  {
   "cell_type": "code",
   "execution_count": 13,
   "metadata": {},
   "outputs": [
    {
     "name": "stdout",
     "output_type": "stream",
     "text": [
      "#A6DDE0\n",
      "['#242626', '#455455', '#658283', '#86b0b2', '#a6dde0', '#b8e2e4', '#cae7e9', '#dceced', '#eef1f2']\n"
     ]
    },
    {
     "data": {
      "image/png": "[encoded data removed]",
      "text/plain": [
       "<Figure size 900x100 with 1 Axes>"
      ]
     },
     "metadata": {},
     "output_type": "display_data"
    }
   ],
   "source": [
    "# Bajocian\n",
    "base = color_dict['Bajocian']\n",
    "print(base)\n",
    "\n",
    "colors_dark = sns.dark_palette(base,n_colors=5).as_hex()\n",
    "colors_light = sns.light_palette(base,n_colors=5).as_hex()\n",
    "colors_light.reverse()\n",
    "\n",
    "colors= colors_dark + colors_light[1:]\n",
    "print(colors)\n",
    "sns.palplot(colors)\n",
    "\n",
    "\n",
    "unit_dict.update({'J2hd1':colors[5],'J2hd2':colors[3],\n",
    " 'J2hd3':colors[6],'J2hd4':colors[2],'J2s2':colors[7],'J2tl1':colors[1],'J2tl2':colors[8]})"
   ]
  },
  {
   "cell_type": "code",
   "execution_count": 14,
   "metadata": {},
   "outputs": [
    {
     "name": "stdout",
     "output_type": "stream",
     "text": [
      "#B3E3EE\n",
      "['#242627', '#546569', '#83a4ac', '#b3e3ee']\n"
     ]
    },
    {
     "data": {
      "image/png": "[encoded data removed]",
      "text/plain": [
       "<Figure size 400x100 with 1 Axes>"
      ]
     },
     "metadata": {},
     "output_type": "display_data"
    }
   ],
   "source": [
    "# Late Jurassic\n",
    "base = color_dict['Upper Jurassic']\n",
    "print(base)\n",
    "\n",
    "colors = sns.dark_palette(base,n_colors=4).as_hex()\n",
    "print(colors)\n",
    "sns.palplot(colors)\n",
    "\n",
    "unit_dict.update({'J3cupsilon':colors[1],'J3km':colors[2],'J3km+t':colors[3]})  "
   ]
  },
  {
   "cell_type": "code",
   "execution_count": 15,
   "metadata": {},
   "outputs": [
    {
     "name": "stdout",
     "output_type": "stream",
     "text": [
      "#7FC64E\n",
      "['#242722', '#36462b', '#486634', '#5a863d', '#6da645', '#7fc64e', '#95cf6d', '#abd88c', '#c1e1ab', '#d6eacb', '#ecf3ea']\n"
     ]
    },
    {
     "data": {
      "image/png": "[encoded data removed]",
      "text/plain": [
       "<Figure size 1100x100 with 1 Axes>"
      ]
     },
     "metadata": {},
     "output_type": "display_data"
    }
   ],
   "source": [
    "# Cretaceous (Cr)\n",
    "base = color_dict['Cretaceous']\n",
    "print(base)\n",
    "\n",
    "colors_dark = sns.dark_palette(base,n_colors=6).as_hex()\n",
    "colors_light = sns.light_palette(base,n_colors=6).as_hex()\n",
    "colors_light.reverse()\n",
    "\n",
    "colors= colors_dark + colors_light[1:]\n",
    "print(colors)\n",
    "sns.palplot(colors)\n",
    "\n",
    "unit_dict.update({'Cr1':colors[5],'Cr1ap+al':colors[6],'Cr1b':colors[4],'Cr1v+h':colors[7],'Cr2':colors[3],\n",
    " 'Cr2cm':colors[8],'Cr2t-d':colors[2]}) "
   ]
  },
  {
   "cell_type": "code",
   "execution_count": 16,
   "metadata": {},
   "outputs": [
    {
     "name": "stdout",
     "output_type": "stream",
     "text": [
      "#8CCD57\n",
      "['#242623', '#3e5030', '#587a3d', '#72a44a', '#8ccd57', '#a4d67b', '#bce0a0', '#d4e9c5', '#edf2ea']\n"
     ]
    },
    {
     "data": {
      "image/png": "[encoded data removed]",
      "text/plain": [
       "<Figure size 900x100 with 1 Axes>"
      ]
     },
     "metadata": {},
     "output_type": "display_data"
    }
   ],
   "source": [
    "# Early Cretaceous (K1)\n",
    "\n",
    "base = color_dict['Lower Cretaceous']\n",
    "print(base)\n",
    "\n",
    "colors_dark = sns.dark_palette(base,n_colors=5).as_hex()\n",
    "colors_light = sns.light_palette(base,n_colors=5).as_hex()\n",
    "colors_light.reverse()\n",
    "\n",
    "colors= colors_dark + colors_light[1:]\n",
    "print(colors)\n",
    "sns.palplot(colors)\n",
    "\n",
    "unit_dict.update({'K1b':colors[2],'K1brdashh':colors[6]})"
   ]
  },
  {
   "cell_type": "code",
   "execution_count": 17,
   "metadata": {},
   "outputs": [
    {
     "name": "stdout",
     "output_type": "stream",
     "text": [
      "#FD9A52\n",
      "['#2b2422', '#5f422e', '#945f3a', '#c97d46', '#fd9a52', '#faaf79', '#f8c5a0', '#f5dac8', '#f3f0ef']\n"
     ]
    },
    {
     "data": {
      "image/png": "[encoded data removed]",
      "text/plain": [
       "<Figure size 900x100 with 1 Axes>"
      ]
     },
     "metadata": {},
     "output_type": "display_data"
    }
   ],
   "source": [
    "# Paleogene\n",
    "base = color_dict['Paleogene']\n",
    "print(base)\n",
    "\n",
    "colors_dark = sns.dark_palette(base,n_colors=5).as_hex()\n",
    "colors_light = sns.light_palette(base,n_colors=5).as_hex()\n",
    "colors_light.reverse()\n",
    "\n",
    "colors= colors_dark + colors_light[1:]\n",
    "print(colors)\n",
    "sns.palplot(colors)\n",
    "\n",
    "unit_dict.update({'Pg1+Pg21+2':colors[4],'Pg22(1)':colors[5],'Pg22(2+3)':colors[3],'Pg23':colors[6],\n",
    "                  'Pg3+N11':colors[2],'Enk':colors[7]})  "
   ]
  },
  {
   "cell_type": "code",
   "execution_count": 18,
   "metadata": {},
   "outputs": [
    {
     "name": "stdout",
     "output_type": "stream",
     "text": [
      "#FFE619\n",
      "['#272622', '#5d5620', '#93861d', '#cab61b', '#ffe619', '#fce94c', '#f9eb80', '#f6eeb4', '#f3f1e8']\n"
     ]
    },
    {
     "data": {
      "image/png": "[encoded data removed]",
      "text/plain": [
       "<Figure size 900x100 with 1 Axes>"
      ]
     },
     "metadata": {},
     "output_type": "display_data"
    }
   ],
   "source": [
    "# Neogene\n",
    "base = color_dict['Neogene']\n",
    "print(base)\n",
    "\n",
    "colors_dark = sns.dark_palette(base,n_colors=5).as_hex()\n",
    "colors_light = sns.light_palette(base,n_colors=5).as_hex()\n",
    "colors_light.reverse()\n",
    "\n",
    "colors= colors_dark + colors_light[1:]\n",
    "print(colors)\n",
    "sns.palplot(colors)\n",
    "\n",
    "unit_dict.update({'N12':colors[4],'N1m':colors[5],'N1s':colors[3],'N1s1+2':colors[6],'N2gr':colors[2],\n",
    "                  'N2pn':colors[7]})  "
   ]
  },
  {
   "cell_type": "code",
   "execution_count": 19,
   "metadata": {},
   "outputs": [
    {
     "name": "stdout",
     "output_type": "stream",
     "text": [
      "#F9F97F\n"
     ]
    },
    {
     "data": {
      "image/png": "[encoded data removed]",
      "text/plain": [
       "<Figure size 200x100 with 1 Axes>"
      ]
     },
     "metadata": {},
     "output_type": "display_data"
    }
   ],
   "source": [
    "# Quaternary\n",
    "base = color_dict['Quaternary']\n",
    "print(base)\n",
    "colors = sns.dark_palette(base,n_colors=2).as_hex()\n",
    "sns.palplot(colors)\n",
    "\n",
    "unit_dict.update({'Q':colors[1]}) \n"
   ]
  },
  {
   "cell_type": "code",
   "execution_count": 20,
   "metadata": {},
   "outputs": [],
   "source": [
    "intrus_dict = {'beta':'red','gamma':'red','mu':'red','delta':'red','phi':'red'}\n",
    "\n",
    "for unit in unique_units:\n",
    "    for k in intrus_dict:\n",
    "        if k in unit:\n",
    "            unit_dict[unit] = intrus_dict[k]"
   ]
  },
  {
   "cell_type": "code",
   "execution_count": 21,
   "metadata": {},
   "outputs": [
    {
     "name": "stdout",
     "output_type": "stream",
     "text": [
      "{'O-S1dl': '#115d4b', 'S2-D1+2lh': '#485549', 'S2-D1bl': '#6c846e', 'D2+3kr': '#7a592d', 'C11kz': '#678f66', 'C12-Tch': '#aac0aa', 'C3kupsilon1': '#465b45', 'Tmr1': '#29242b', 'Tmr2': '#55275f', 'Tms1': '#812b92', 'J12mr2': '#42aed0', 'J12ms11': '#6dbfd9', 'J12ms12': '#3a8ca6', 'J12ms2': '#98cfe1', 'J13': '#c3e0ea', 'J13s1': '#336a7c', 'J2bj': '#80cfd8', 'J2bt': '#b7e0e5', 'cJ2bt': '#527b80', 'J2hd1': '#b8e2e4', 'J2hd2': '#86b0b2', 'J2hd3': '#cae7e9', 'J2hd4': '#658283', 'J2s2': '#dceced', 'J2tl1': '#455455', 'J2tl2': '#eef1f2', 'J3cupsilon': '#546569', 'J3km': '#83a4ac', 'J3km+t': '#b3e3ee', 'Cr1': '#7fc64e', 'Cr1ap+al': '#95cf6d', 'Cr1b': '#6da645', 'Cr1v+h': '#abd88c', 'Cr2': '#5a863d', 'Cr2cm': '#c1e1ab', 'Cr2t-d': '#486634', 'K1b': '#587a3d', 'K1brdashh': '#bce0a0', 'Pg1+Pg21+2': '#fd9a52', 'Pg22(1)': '#faaf79', 'Pg22(2+3)': '#c97d46', 'Pg23': '#f8c5a0', 'Pg3+N11': '#945f3a', 'Enk': '#f5dac8', 'N12': '#ffe619', 'N1m': '#fce94c', 'N1s': '#cab61b', 'N1s1+2': '#f9eb80', 'N2gr': '#93861d', 'N2pn': '#f6eeb4', 'Q': '#f9f97f', 'betaCr2t': 'red', 'betaJ2': 'red', 'betaTr': 'red', 'betamuJ2': 'red', 'deltaJ2': 'red', 'gamma1C12-C2': 'red', 'gamma2C12-C2': 'red', 'gammaD3-C11': 'red', 'gammaJ2': 'red', 'gammadeltaJ2': 'red', 'muthetaTr': 'red', 'phiupsilonJ2': 'red', 'qdeltaJ2': 'red', 'qdeltamuJ2': 'red', 'upsilionbetaJ2': 'red', 'Ice': '#FFFFFF'}\n"
     ]
    }
   ],
   "source": [
    "unit_dict.update({'Ice':'#FFFFFF'})\n",
    "print(unit_dict)\n",
    "df = pd.DataFrame(unit_dict.values(),index=unit_dict.keys(),columns=['Color'])\n",
    "df.to_csv('color_dict.csv',index_label='Unit')"
   ]
  },
  {
   "cell_type": "code",
   "execution_count": 22,
   "metadata": {},
   "outputs": [],
   "source": [
    "for k,map in enumerate(maps):\n",
    "    map['unit_color'] = map['unit'].map(unit_dict)\n",
    "    map.to_file(filename,layer=map_names[k],overwrite=True)"
   ]
  }
 ],
 "metadata": {
  "kernelspec": {
   "display_name": "dataset-caucasus-gchem-2023",
   "language": "python",
   "name": "python3"
  },
  "language_info": {
   "codemirror_mode": {
    "name": "ipython",
    "version": 3
   },
   "file_extension": ".py",
   "mimetype": "text/x-python",
   "name": "python",
   "nbconvert_exporter": "python",
   "pygments_lexer": "ipython3",
   "version": "3.11.11"
  }
 },
 "nbformat": 4,
 "nbformat_minor": 2
}
