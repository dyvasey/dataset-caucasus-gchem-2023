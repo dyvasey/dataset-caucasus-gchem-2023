{
 "cells": [
  {
   "cell_type": "code",
   "execution_count": null,
   "metadata": {},
   "outputs": [],
   "source": [
    "import pandas as pd\n",
    "import matplotlib.pyplot as plt\n",
    "import numpy as np\n",
    "\n",
    "from geoscripts import gchemplots as gp"
   ]
  },
  {
   "cell_type": "code",
   "execution_count": null,
   "metadata": {},
   "outputs": [],
   "source": [
    "# Import data\n",
    "data = pd.read_excel('../published/GS2385_SuppTablesS1-S6.xlsx',sheet_name='Table S2',header=7,index_col=5)\n",
    "print(data.columns)\n",
    "\n",
    "trexler = data[data.Reference=='this pub']\n",
    "trexler.drop('CT15118',inplace=True)\n",
    "print(trexler.index)\n",
    "\n",
    "metadata = pd.read_excel('../published/GS2385_SuppTablesS1-S6.xlsx',sheet_name='Table S1',header=2)\n",
    "print(metadata.columns)"
   ]
  },
  {
   "cell_type": "code",
   "execution_count": null,
   "metadata": {},
   "outputs": [],
   "source": [
    "# Additional processing\n",
    "color_dict = {'Khaishi Core':'#88CCEE','Khaishi Limbs':'#44AA99','Idliani':'#117733','Jvari':'#999933','Lentekhi/Panaga':'#AA4499','Mazashi':'#882255','Tsageri-Khvamli':'#CC6677',\n",
    "              np.nan:'#DDDDDD'}\n",
    "sample_dict = {'CT15019':'Khaishi Core','CT15015':'Khaishi Limbs','CT15051':'Idliani','CT15049':'Jvari','CT15038':'Jvari','100711-1B':np.nan,'CT15118':np.nan}\n",
    "\n",
    "sample_domains = [sample_dict[x] for x in trexler.index]\n",
    "colors = [color_dict[x] for x in sample_domains]"
   ]
  },
  {
   "cell_type": "code",
   "execution_count": null,
   "metadata": {},
   "outputs": [],
   "source": [
    "# Majors\n",
    "fig,ax = plt.subplots(1,dpi=300,figsize=(6,4))\n",
    "SiO2,Na2O,K2O = trexler[['SiO2','Na2O','K2O']].T.values.astype(float)\n",
    "gp.TASsm(SiO2,Na2O,K2O,ax=ax,first=[],color=colors)"
   ]
  },
  {
   "cell_type": "code",
   "execution_count": null,
   "metadata": {},
   "outputs": [],
   "source": [
    "# AFM\n",
    "fig = plt.figure()\n",
    "ax = fig.add_subplot(111,projection='ternary')\n",
    "\n",
    "Na2O,K2O,MgO,FeOt = trexler[['Na2O','K2O','MgO','FeOt']].T.values\n",
    "gp.afm(Na2O=Na2O,K2O=K2O,MgO=MgO,FeOt=FeOt,ax=ax,first=[])\n",
    "\n",
    "fig.savefig('afm_trex.pdf')"
   ]
  },
  {
   "cell_type": "code",
   "execution_count": null,
   "metadata": {},
   "outputs": [],
   "source": [
    "# Ternary\n",
    "fig = plt.figure(figsize=(6.5,3),dpi=300)\n",
    "ax = fig.add_subplot(111,projection='ternary')\n",
    "\n",
    "Tb,Th,Ta = trexler[['Tb','Th','Ta']].T.values\n",
    "gp.cabanis(Tb,Th,Ta,ax=ax,color=colors)"
   ]
  },
  {
   "cell_type": "code",
   "execution_count": null,
   "metadata": {},
   "outputs": [],
   "source": []
  }
 ],
 "metadata": {
  "kernelspec": {
   "display_name": "dataset-caucasus-gchem-2023",
   "language": "python",
   "name": "python3"
  },
  "language_info": {
   "codemirror_mode": {
    "name": "ipython",
    "version": 3
   },
   "file_extension": ".py",
   "mimetype": "text/x-python",
   "name": "python",
   "nbconvert_exporter": "python",
   "pygments_lexer": "ipython3",
   "version": "3.11.10"
  }
 },
 "nbformat": 4,
 "nbformat_minor": 2
}
