{
 "cells": [
  {
   "cell_type": "code",
   "execution_count": null,
   "metadata": {},
   "outputs": [],
   "source": [
    "import pandas as pd\n",
    "import numpy as np\n",
    "import matplotlib.pyplot as plt\n",
    "\n",
    "from geoscripts import gchemplots as gp"
   ]
  },
  {
   "cell_type": "code",
   "execution_count": null,
   "metadata": {},
   "outputs": [],
   "source": [
    "# Read in data\n",
    "data = pd.read_excel('../published/Vasey_CaucArc_TableS4.xlsx',header=1)\n",
    "spreading_cond1 = data['Region'].isin(['Okinawa Trough','Bransfield Strait','Tyrrhenian Sea','Greater Caucasus'])\n",
    "spreading_cond2 = data['Source']!='Hess et al., 1995'\n",
    "spreading_data = data[spreading_cond1 & spreading_cond2]\n",
    "\n",
    "# Make groups\n",
    "groups = spreading_data.groupby('Region')\n",
    "\n",
    "# Set colors\n",
    "color_dict = {'Okinawa Trough':'purple','Bransfield Strait':'red','Tyrrhenian Sea':'orange','Greater Caucasus':'blue'}\n",
    "axes_dict = {'Okinawa Trough':1,'Bransfield Strait':0,'Tyrrhenian Sea':2,'Greater Caucasus':3}"
   ]
  },
  {
   "cell_type": "code",
   "execution_count": null,
   "metadata": {},
   "outputs": [],
   "source": [
    "# TAS\n",
    "\n",
    "fig,axs = plt.subplots(4,dpi=300,figsize=(5,9))\n",
    "\n",
    "for k, group in groups:\n",
    "    ax = axs[axes_dict[k]]\n",
    "    color = color_dict[k]\n",
    "    SiO2,Na2O,K2O = group[['SiO2','Na2O','K2O']].T.values\n",
    "    gp.TASsm(SiO2,Na2O,K2O,label=k,ax=ax,color=color,first=[])\n",
    "    ax.set_title(k)\n",
    "\n",
    "plt.tight_layout()\n",
    "fig.savefig('TAS_cbab.pdf')"
   ]
  },
  {
   "cell_type": "code",
   "execution_count": null,
   "metadata": {},
   "outputs": [],
   "source": [
    "#AFM\n",
    "fig = plt.figure(dpi=300,figsize=(6,6))\n",
    "ax0 = fig.add_subplot(221,projection='ternary')\n",
    "ax1 = fig.add_subplot(222,projection='ternary')\n",
    "ax2 = fig.add_subplot(223,projection='ternary')\n",
    "ax3 = fig.add_subplot(224,projection='ternary')\n",
    "\n",
    "axs = [ax0,ax1,ax2,ax3]\n",
    "\n",
    "for k, group in groups:\n",
    "    Na2O,K2O,MgO,FeOt = group[['Na2O','K2O','MgO','FeOt']].T.values\n",
    "    gp.afm(Na2O=Na2O,K2O=K2O,MgO=MgO,FeOt=FeOt,ax=axs[axes_dict[k]],\n",
    "           scatter_kwargs={'label':k,'color':color_dict[k]},first=[],density=True,\n",
    "           density_kwargs={'cmap':'Reds'})\n",
    "\n",
    "plt.tight_layout()\n",
    "fig.savefig('afm_cbab.pdf')"
   ]
  },
  {
   "cell_type": "code",
   "execution_count": null,
   "metadata": {},
   "outputs": [],
   "source": [
    "fig,axs = plt.subplots(4,2,figsize=(6.5,7),dpi=300)\n",
    "\n",
    "\n",
    "for k, group in groups:\n",
    "\n",
    "    ax0 = axs[(axes_dict[k],0)]\n",
    "    ax1 = axs[(axes_dict[k],1)]\n",
    "\n",
    "    ax0.set_title(k)\n",
    "\n",
    "    gp.REE(group,ax=ax0,c=color_dict[k])\n",
    "    gp.immobile(group,ax=ax1,c=color_dict[k])\n",
    "\n",
    "plt.tight_layout()"
   ]
  },
  {
   "cell_type": "code",
   "execution_count": null,
   "metadata": {},
   "outputs": [],
   "source": [
    "# Ternary\n",
    "fig = plt.figure(figsize=(4,4),dpi=300)\n",
    "ax = fig.add_subplot(111,projection='ternary')\n",
    "\n",
    "for k,group in groups:\n",
    "    Tb,Th,Ta = group[['Tb','Th','Ta']].T.values\n",
    "    gp.cabanis(Tb,Th,Ta,ax=ax,label=k,c=color_dict[k])"
   ]
  },
  {
   "cell_type": "code",
   "execution_count": null,
   "metadata": {},
   "outputs": [],
   "source": [
    "odata = spreading_data.loc[:,['Latitude','Longitude','Source','Region','Lithology']]\n",
    "odata.loc[:,'Color'] = [color_dict[x] for x in spreading_data['Region']]\n",
    "\n",
    "odata.to_csv('locations_vasey21.csv')"
   ]
  }
 ],
 "metadata": {
  "kernelspec": {
   "display_name": "dataset-caucasus-gchem-2023",
   "language": "python",
   "name": "python3"
  },
  "language_info": {
   "codemirror_mode": {
    "name": "ipython",
    "version": 3
   },
   "file_extension": ".py",
   "mimetype": "text/x-python",
   "name": "python",
   "nbconvert_exporter": "python",
   "pygments_lexer": "ipython3",
   "version": "3.11.10"
  }
 },
 "nbformat": 4,
 "nbformat_minor": 2
}
