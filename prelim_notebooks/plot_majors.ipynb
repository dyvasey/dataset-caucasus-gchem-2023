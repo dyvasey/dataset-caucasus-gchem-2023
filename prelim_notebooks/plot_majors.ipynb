{
 "cells": [
  {
   "cell_type": "code",
   "execution_count": null,
   "metadata": {},
   "outputs": [],
   "source": [
    "import pandas as pd\n",
    "from geoscripts import gchemplots as gp\n",
    "import matplotlib.pyplot as plt"
   ]
  },
  {
   "cell_type": "code",
   "execution_count": null,
   "metadata": {},
   "outputs": [],
   "source": [
    "# Read in organized data\n",
    "data = pd.read_csv('../processed/data.csv',index_col=0)\n",
    "print(data.columns)"
   ]
  },
  {
   "cell_type": "code",
   "execution_count": null,
   "metadata": {},
   "outputs": [],
   "source": [
    "# Plot all J samples on TAS\n",
    "data_J = data[(data['Period']=='Jurassic')|(data['Period']=='Jurassic?')]\n",
    "groups = data_J.groupby(data_J['S_Domain'])\n",
    "\n",
    "for k, group in groups:\n",
    "    SiO2,Na2O,K2O = group[['SiO2','Na2O','K2O']].T.values\n",
    "    gp.TASsm(SiO2,Na2O,K2O,label=k,first=[])\n",
    "\n",
    "plt.legend()"
   ]
  },
  {
   "cell_type": "code",
   "execution_count": null,
   "metadata": {},
   "outputs": [],
   "source": [
    "# Plot all J samples on harkers\n",
    "\n",
    "# Rename FeO* for harker\n",
    "\n",
    "harker_cols = data_J.columns.str.replace('*','t')\n",
    "data_harker = data_J.copy()\n",
    "data_harker.columns = harker_cols\n",
    "\n",
    "gp.harker(data_harker)"
   ]
  },
  {
   "cell_type": "code",
   "execution_count": null,
   "metadata": {},
   "outputs": [],
   "source": []
  }
 ],
 "metadata": {
  "kernelspec": {
   "display_name": "dataset-caucasus-gchem-2023",
   "language": "python",
   "name": "python3"
  },
  "language_info": {
   "codemirror_mode": {
    "name": "ipython",
    "version": 3
   },
   "file_extension": ".py",
   "mimetype": "text/x-python",
   "name": "python",
   "nbconvert_exporter": "python",
   "pygments_lexer": "ipython3",
   "version": "3.11.10"
  },
  "orig_nbformat": 4
 },
 "nbformat": 4,
 "nbformat_minor": 2
}
