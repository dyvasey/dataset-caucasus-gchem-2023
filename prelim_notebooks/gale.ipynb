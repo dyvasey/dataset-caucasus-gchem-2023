{
 "cells": [
  {
   "cell_type": "code",
   "execution_count": null,
   "metadata": {},
   "outputs": [],
   "source": [
    "import pandas as pd\n",
    "import numpy as np\n",
    "import matplotlib.pyplot as plt\n",
    "\n",
    "from geoscripts import gchemplots as gp"
   ]
  },
  {
   "cell_type": "code",
   "execution_count": null,
   "metadata": {},
   "outputs": [],
   "source": [
    "# import data from Gale13\n",
    "data = pd.read_excel('../published/galeetal_supplementarytables_final.xlsx',sheet_name='5- Master TE-Iso Compilation.')\n",
    "\n",
    "# isolate back-arc basins\n",
    "bab_data = data[data['Seg Name'].astype(str).str.startswith('B')]\n",
    "\n",
    "# Assign nan to empty cells\n",
    "bab_data.replace(' ',np.nan,inplace=True)\n",
    "\n",
    "# Save modified data\n",
    "bab_data.to_csv('data_gale.csv')\n"
   ]
  },
  {
   "cell_type": "code",
   "execution_count": null,
   "metadata": {},
   "outputs": [],
   "source": [
    "# Plot Majors\n",
    "fig,ax = plt.subplots(1,dpi=300,figsize=(6,4))\n",
    "SiO2,Na2O,K2O = bab_data[['SiO2','Na2O','K2O']].T.values.astype(float)\n",
    "gp.TASsm(SiO2,Na2O,K2O,ax=ax,first=[])"
   ]
  },
  {
   "cell_type": "code",
   "execution_count": null,
   "metadata": {},
   "outputs": [],
   "source": [
    "# AFM diagram\n",
    "fig = plt.figure()\n",
    "ax = fig.add_subplot(111,projection='ternary')\n",
    "\n",
    "Na2O,K2O,MgO,FeOt = bab_data[['Na2O','K2O','MgO','FeOt']].T.values\n",
    "gp.afm(Na2O=Na2O,K2O=K2O,MgO=MgO,FeOt=FeOt,ax=ax)"
   ]
  },
  {
   "cell_type": "code",
   "execution_count": null,
   "metadata": {},
   "outputs": [],
   "source": [
    "# Spiders\n",
    "# Note, need to deal with Ti\n",
    "\n",
    "fig0,ax0 = plt.subplots(1,figsize=(6.5,7),dpi=300)\n",
    "\n",
    "fig1,ax1 = plt.subplots(1,figsize=(6.5,7),dpi=300)\n",
    "\n",
    "gp.REE(bab_data,ax=ax0)\n",
    "gp.immobile(bab_data,ax=ax1)"
   ]
  },
  {
   "cell_type": "code",
   "execution_count": null,
   "metadata": {},
   "outputs": [],
   "source": [
    "# Ternary\n",
    "fig = plt.figure(figsize=(6.5,3),dpi=300)\n",
    "ax = fig.add_subplot(111,projection='ternary')\n",
    "\n",
    "Tb,Th,Ta = bab_data[['Tb','Th','Ta']].T.values\n",
    "gp.cabanis(Tb,Th,Ta,ax=ax)"
   ]
  }
 ],
 "metadata": {
  "kernelspec": {
   "display_name": "dataset-caucasus-gchem-2023",
   "language": "python",
   "name": "python3"
  },
  "language_info": {
   "codemirror_mode": {
    "name": "ipython",
    "version": 3
   },
   "file_extension": ".py",
   "mimetype": "text/x-python",
   "name": "python",
   "nbconvert_exporter": "python",
   "pygments_lexer": "ipython3",
   "version": "3.11.10"
  }
 },
 "nbformat": 4,
 "nbformat_minor": 2
}
